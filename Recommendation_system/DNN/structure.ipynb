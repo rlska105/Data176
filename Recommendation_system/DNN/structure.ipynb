{
 "cells": [
  {
   "cell_type": "markdown",
   "metadata": {},
   "source": [
    "## Layer\n",
    "  - (samples, features) 크기의 2D 텐서로 저장된 벡터 데이터는 완전 연결층(fully connected layer)이나 밀집 층(dense layer)라고 불리는 밀집 연결 층에 의해 처리된다. 케라스에서는 Dense 클래스로 구현한다.\n",
    "  - (samples, timesteps, features) 크기의 3D 텐서로 저장된 시퀀스 데이터는 보통 LSTM 같은 순환 층(recurrent layer)에 의해 처리된다\n",
    "  - 4D 텐서로 저장되어 있는 이미지 데이터는 일반적으로 2D 합성곱 층에 의해 처리된다. 케라스에서는 이를 Conv2D 클래스로 구현한다"
   ]
  },
  {
   "cell_type": "markdown",
   "metadata": {},
   "source": [
    "##  Model\n",
    "  - 층으로 만들어진 비순환 유향 그래프(엣지에 방향이 있고 자기 자신으로 돌아오지 않는 그래프)\n",
    "  - 층 > 컴파일 > 적합 > 예측"
   ]
  },
  {
   "cell_type": "markdown",
   "metadata": {},
   "source": [
    "## Loss function, Optimizer\n",
    "  - 이진 분류 - binary crossentropy\n",
    "  - 다중 분류 - categorical crossentropy\n",
    "  - 회귀 문제 - CTC(Connection Temporal Classification"
   ]
  },
  {
   "cell_type": "markdown",
   "metadata": {},
   "source": [
    "## 다층 퍼셉트론 Dense 레이어\n",
    "  - Dense 레이어는 입력과 출력을 모두 연결해준다 > 전결합층이라고 불림\n",
    "  - 입력 뉴런 수에 상관없이 출력 뉴런 수를 자유롭게 설정할 수 있어 출력층으로 많이 사용됨\n",
    "  - 사용 예제<br>\n",
    "    Dense(8, input_dim=4, init='uniform', activation='relu')\n",
    "    > 첫 번째 인자 : 출력 뉴런 수<br>\n",
    "      input_dim : 입력 뉴런 수<br>\n",
    "      init : 가중치 초기화 방법(uniform-균일, normal-가우시안)<br>\n",
    "      activation : 활성화 함수(linear-디폴트, relu-은닉 층·수치 자료의 입력층, sigmoid-이진 분류, softmax-출력 층)<br>"
   ]
  }
 ],
 "metadata": {
  "kernelspec": {
   "display_name": "Python 3",
   "language": "python",
   "name": "python3"
  },
  "language_info": {
   "codemirror_mode": {
    "name": "ipython",
    "version": 3
   },
   "file_extension": ".py",
   "mimetype": "text/x-python",
   "name": "python",
   "nbconvert_exporter": "python",
   "pygments_lexer": "ipython3",
   "version": "3.7.4"
  }
 },
 "nbformat": 4,
 "nbformat_minor": 2
}
