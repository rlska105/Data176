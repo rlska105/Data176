{
 "cells": [
  {
   "cell_type": "markdown",
   "metadata": {},
   "source": [
    "# DNN\n",
    "\n",
    "- recommender system에서 DNN은 MF의 몇가지 문제를 해결합니다.<br>\n",
    "    1.cold start problem due to the fact that it had no feature vector.<br>\n",
    "    2.often tends to recommend just popular items to everyone which does not always reflect the specific user interests<br>\n",
    "    3.often not enough to capture and represent the complex relations in the user and items.<br>\n",
    "    "
   ]
  },
  {
   "cell_type": "markdown",
   "metadata": {},
   "source": [
    "## Algotithms"
   ]
  },
  {
   "cell_type": "markdown",
   "metadata": {},
   "source": [
    "### NCF\n",
    "- Schema\n",
    "    - Neural Collaborative Filtering (NCF) is a neural network-based collaborative learning framework that will use Multi perceptron layers to learn user-item interaction function.<br><br>\n",
    "- Process\n",
    "    - NCF takes in two sparse vectors, one representing the user and the other represents items. The item vector has 1 at an index means the user has interacted with the item corresponding to the index. Basically both items and users are one-hot encoded."
   ]
  },
  {
   "cell_type": "markdown",
   "metadata": {},
   "source": [
    "### NeuMF\n",
    "- Schema : an idea of a NeuMF as a Fusion of general Matrix factorization GMF and Multiperceptron layer MLP with the name NeuMF. The general idea behind the fusion is that the GMF better generates the linear dependencies and the MLP better models the non-linear dependencies of in the user-item interactions. Here the MLP’s item and user vectors and GMF layer’s user and item vectors are separately trained, so, that they can reach individual optimality."
   ]
  },
  {
   "cell_type": "markdown",
   "metadata": {},
   "source": [
    "### CNN\n",
    "- Schema : A Convolutional Neural Network can be used. We can split the watch history sequence into training windows and shift the 1 Dimensional training window over the interaction sequence of a particular user to get the embedding"
   ]
  },
  {
   "cell_type": "markdown",
   "metadata": {},
   "source": [
    "### Softmax layer\n",
    "- add"
   ]
  },
  {
   "cell_type": "markdown",
   "metadata": {},
   "source": [
    "### Loss function\n",
    "- Pointwise Loss\n",
    "- Pairwise Loss or Ranking Loss"
   ]
  },
  {
   "cell_type": "code",
   "execution_count": null,
   "metadata": {},
   "outputs": [],
   "source": []
  }
 ],
 "metadata": {
  "kernelspec": {
   "display_name": "Python 3",
   "language": "python",
   "name": "python3"
  },
  "language_info": {
   "codemirror_mode": {
    "name": "ipython",
    "version": 3
   },
   "file_extension": ".py",
   "mimetype": "text/x-python",
   "name": "python",
   "nbconvert_exporter": "python",
   "pygments_lexer": "ipython3",
   "version": "3.7.6"
  }
 },
 "nbformat": 4,
 "nbformat_minor": 4
}
