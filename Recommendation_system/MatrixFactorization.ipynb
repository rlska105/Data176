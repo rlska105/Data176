{
 "cells": [
  {
   "cell_type": "markdown",
   "metadata": {},
   "source": [
    "# Matrix factorization\n",
    "- 정의 : 우선 MF 모델은 본질적으로는 행렬을 분해하고 분해한 행렬을 변수로써 학습하는 것이다. MF의 목적은 아직 평가를 내리지 않은 user-item의 빈 공간을 Model-based Learning으로 채워넣는 것을 의미한다. 과거에는 data의 양이 크지 않아 missing value를 처리할 때 imputation에 많은 노력을 쏟았지만 현재는 데이터의 volume이 커지면서 차원을 줄이는 것에 큰 의미를 두고 있음.<br><br>\n",
    "\n",
    "- Model : MF model은 user와 item을 latent factor space에 넣기 위해 매핑합니다. item i는 vector q와 연관이 있고, user u는 vector p와 연관이 있습니다. 모델이 수행해야 할 가장 큰 숙제는 user와 item의 매핑을 계산하는 것 입니다. 모델의 종류로는 SVD(Singular Value Decomposition)와 NMF(Non-negative matrix factorization)등이 있고 이것은 CF와 큰 연관이 있습니다.<br><br>\n",
    "- 고려 할 사항 : 고객, 아이템, 시스템의 업데이트, 시스템의 알고리즘적 성능\n",
    "  - 시스템 업데이트 : 얼마나 자주 추천되는 리스트가 업데이트 되는가"
   ]
  },
  {
   "cell_type": "code",
   "execution_count": null,
   "metadata": {},
   "outputs": [],
   "source": []
  }
 ],
 "metadata": {
  "kernelspec": {
   "display_name": "Python 3",
   "language": "python",
   "name": "python3"
  },
  "language_info": {
   "codemirror_mode": {
    "name": "ipython",
    "version": 3
   },
   "file_extension": ".py",
   "mimetype": "text/x-python",
   "name": "python",
   "nbconvert_exporter": "python",
   "pygments_lexer": "ipython3",
   "version": "3.7.6"
  }
 },
 "nbformat": 4,
 "nbformat_minor": 4
}
