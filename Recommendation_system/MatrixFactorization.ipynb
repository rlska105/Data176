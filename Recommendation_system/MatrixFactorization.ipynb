{
 "cells": [
  {
   "cell_type": "markdown",
   "metadata": {},
   "source": [
    "# Matrix factorization\n",
    "- 정의 : 우선 MF 모델은 본질적으로는 행렬을 분해하고 분해한 행렬을 변수로써 학습하는 것입니다. MF의 목적은 아직 평가를 내리지 않은 user-item의 빈 공간을 Model-based Learning으로 채워넣는 것을 의미합니다. 과거에는 data의 양이 크지 않아 missing value를 처리할 때 imputation에 많은 노력을 쏟았지만 현재는 데이터의 volume이 커지면서 차원을 줄이는 것에 큰 의미를 두고 있습니다.<br><br>\n",
    "\n",
    "- Model : MF model은 user와 item을 latent factor space에 넣기 위해 매핑합니다. item i는 vector q와 연관이 있고, user u는 vector p와 연관이 있습니다. 모델이 수행해야 할 가장 큰 숙제는 user와 item의 매핑을 계산하는 것 입니다. 모델의 종류로는 SVD(Singular Value Decomposition)와 NMF(Non-negative matrix factorization)등이 있고 이것은 CF와 큰 연관이 있습니다.<br><br>\n",
    "\n",
    "- Types of Matrix factorization\n",
    "    - LU decomposition LU 분해는 matrix를 L과 U로 분해하여 L은 아랫쪽 삼각형 matrix를 형성하고 U는 윗쪽 삼각형 matrix를 형성합니다. 보통 선형 회귀의 계수를 찾을 때 사용합니다.\n",
    "    - QR matrix decomposition QR분해는 Q와 R로 분해해 Q는 정사각형 matrix가 되고 R은 윗쪽 삼각혁이 되어 eigen system analysis를 위해 사용합니다.\n",
    "    - Cholesky Decomposition- 이것은 머신러닝에서 분해할때 가장 많이 사용되는 방법입니다. 선형 회귀를 위한 선형 최소 제곱을 계산하는데 사용할 수 있습니다.<br><br>\n",
    "\n",
    "- Process data : 데이터를 처리하기 위해서 원본 데이터에서 3000 x 5000 sub-matrix데이터를 추출했고 약 98%이 0였기 때문에 차원 축소를 진행하여 502 x 1528의 matrix를 얻었습니다.\n",
    "\n",
    "\n"
   ]
  },
  {
   "cell_type": "code",
   "execution_count": null,
   "metadata": {},
   "outputs": [],
   "source": []
  }
 ],
 "metadata": {
  "kernelspec": {
   "display_name": "Python 3",
   "language": "python",
   "name": "python3"
  },
  "language_info": {
   "codemirror_mode": {
    "name": "ipython",
    "version": 3
   },
   "file_extension": ".py",
   "mimetype": "text/x-python",
   "name": "python",
   "nbconvert_exporter": "python",
   "pygments_lexer": "ipython3",
   "version": "3.7.6"
  }
 },
 "nbformat": 4,
 "nbformat_minor": 4
}
