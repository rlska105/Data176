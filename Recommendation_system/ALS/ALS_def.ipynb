{
 "cells": [
  {
   "cell_type": "code",
   "execution_count": null,
   "metadata": {},
   "outputs": [],
   "source": [
    "sparsity = float(len(ratings.nonzero()[0]))\n",
    "sparsity /= (ratings.shape[0] * ratings.shape[1])\n",
    "sparsity *= 100\n",
    "print('{:.2f}%'.format(sparsity))"
   ]
  },
  {
   "cell_type": "code",
   "execution_count": 66,
   "metadata": {},
   "outputs": [],
   "source": [
    "def implicit_als(sparse_data, alpha_val=40, iterations=10, lambda_val=0.1, features=10):\n",
    " \n",
    "    \"\"\"\n",
    "    Args:\n",
    "        sparse_data (csr_matrix): 유저와 아이템 행렬 (training set)\n",
    " \n",
    "        alpha_val (int): 신뢰도 값 조정에 필요한 값.\n",
    " \n",
    "        iterations (int): 반복 횟수\n",
    " \n",
    "        lambda_val (float): 정규화에 필요한 값. 정규화 값이 증가 할 수록 편향도 증가 Default is 0.1.\n",
    " \n",
    "        features (int): 계산할 latent features의 값\n",
    "    \n",
    "    Returns:     \n",
    "        X (csr_matrix): user vectors of size users-by-features\n",
    "        \n",
    "        Y (csr_matrix): item vectors of size items-by-features\n",
    "     \"\"\"\n",
    "\n",
    "    # 신뢰도값 = training * alpha (최적값 40)\n",
    "    confidence = sparse_data * alpha_val\n",
    "    \n",
    "    # 유저와 아이템의 사이즈\n",
    "    user_size, item_size = sparse_data.shape\n",
    "    \n",
    "    # X(user matrix) , Y(item matrix) 랜덤값으로 초기화\n",
    "    X = sparse.csr_matrix(np.random.normal(size = (user_size, features)))\n",
    "    Y = sparse.csr_matrix(np.random.normal(size = (item_size, features)))\n",
    "    \n",
    "    #Precompute I and lambda * I\n",
    "    # I는 identifier matrix\n",
    "    X_I = sparse.eye(user_size)\n",
    "    Y_I = sparse.eye(item_size)\n",
    "    \n",
    "    I = sparse.eye(features)\n",
    "    lI = lambda_val * I"
   ]
  },
  {
   "cell_type": "markdown",
   "metadata": {},
   "source": [
    "Still inside our implicit_als function we start the main iteration loop. Here we first precompute X-transpose-X and Y-transpose-Y as discussed earlier. We then have two inner loops where we first iterate over all users and update X and then do the same for all items and update Y."
   ]
  },
  {
   "cell_type": "code",
   "execution_count": 75,
   "metadata": {},
   "outputs": [
    {
     "ename": "NameError",
     "evalue": "name 'xrange' is not defined",
     "output_type": "error",
     "traceback": [
      "\u001b[0;31m---------------------------------------------------------------------------\u001b[0m",
      "\u001b[0;31mNameError\u001b[0m                                 Traceback (most recent call last)",
      "\u001b[0;32m<ipython-input-75-b33b9dea61a6>\u001b[0m in \u001b[0;36m<module>\u001b[0;34m\u001b[0m\n\u001b[1;32m      2\u001b[0m \u001b[0;34m\u001b[0m\u001b[0m\n\u001b[1;32m      3\u001b[0m \u001b[0;31m# Start main loop. For each iteration we first compute X and then Y\u001b[0m\u001b[0;34m\u001b[0m\u001b[0;34m\u001b[0m\u001b[0;34m\u001b[0m\u001b[0m\n\u001b[0;32m----> 4\u001b[0;31m \u001b[0;32mfor\u001b[0m \u001b[0mi\u001b[0m \u001b[0;32min\u001b[0m \u001b[0mxrange\u001b[0m\u001b[0;34m(\u001b[0m\u001b[0miterations\u001b[0m\u001b[0;34m)\u001b[0m\u001b[0;34m:\u001b[0m\u001b[0;34m\u001b[0m\u001b[0;34m\u001b[0m\u001b[0m\n\u001b[0m\u001b[1;32m      5\u001b[0m     \u001b[0mprint\u001b[0m\u001b[0;34m(\u001b[0m \u001b[0;34m'iteration %d of %d'\u001b[0m \u001b[0;34m%\u001b[0m \u001b[0;34m(\u001b[0m\u001b[0mi\u001b[0m\u001b[0;34m+\u001b[0m\u001b[0;36m1\u001b[0m\u001b[0;34m,\u001b[0m \u001b[0miterations\u001b[0m\u001b[0;34m)\u001b[0m\u001b[0;34m)\u001b[0m\u001b[0;34m\u001b[0m\u001b[0;34m\u001b[0m\u001b[0m\n\u001b[1;32m      6\u001b[0m \u001b[0;34m\u001b[0m\u001b[0m\n",
      "\u001b[0;31mNameError\u001b[0m: name 'xrange' is not defined"
     ]
    }
   ],
   "source": [
    "\"\"\" Continuation of implicit_als function\"\"\"\n",
    "\n",
    "# loop을 통해 유저와 아이템을 반복적으로 최적화\n",
    "for i in xrange(iterations):\n",
    "    print( 'iteration %d of %d' % (i+1, iterations))\n",
    "\n",
    "    # Precompute Y-transpose-Y and X-transpose-X\n",
    "    yTy = Y.T.dot(Y)\n",
    "    xTx = X.T.dot(X)\n",
    "\n",
    "    # 유저와 아이템을 loop을 통해 최적화\n",
    "    for u in xrange(user_size):\n",
    "\n",
    "        # 유저 값을 구함\n",
    "        u_row = confidence[u,:].toarray() \n",
    "\n",
    "        # 선호도 p(u)값을 계산\n",
    "        p_u = u_row.copy()\n",
    "        p_u[p_u != 0] = 1.0\n",
    "\n",
    "        \n",
    "        # Calculate Cu and Cu - I\n",
    "        \n",
    "        CuI = sparse.diags(u_row, [0])\n",
    "        Cu = CuI + Y_I\n",
    "\n",
    "        # Put it all together and compute the final formula\n",
    "        yT_CuI_y = Y.T.dot(CuI).dot(Y)\n",
    "        yT_Cu_pu = Y.T.dot(Cu).dot(p_u.T)\n",
    "        X[u] = spsolve(yTy + yT_CuI_y + lI, yT_Cu_pu)\n",
    "\n",
    "\n",
    "    for i in xrange(item_size):\n",
    "\n",
    "        # 아이템 컬럼을 구하고 전치\n",
    "        i_row = confidence[:,i].T.toarray()\n",
    "\n",
    "        # Calculate the binary preference p(i)\n",
    "        p_i = i_row.copy()\n",
    "        p_i[p_i != 0] = 1.0\n",
    "\n",
    "        # Calculate Ci and Ci - I\n",
    "        CiI = sparse.diags(i_row, [0])\n",
    "        Ci = CiI + X_I\n",
    "\n",
    "        # Put it all together and compute the final formula\n",
    "        xT_CiI_x = X.T.dot(CiI).dot(X)\n",
    "        xT_Ci_pi = X.T.dot(Ci).dot(p_i.T)\n",
    "        Y[i] = spsolve(xTx + xT_CiI_x + lI, xT_Ci_pi)\n",
    "\n",
    "return X, Y"
   ]
  }
 ],
 "metadata": {
  "kernelspec": {
   "display_name": "Python 3",
   "language": "python",
   "name": "python3"
  },
  "language_info": {
   "codemirror_mode": {
    "name": "ipython",
    "version": 3
   },
   "file_extension": ".py",
   "mimetype": "text/x-python",
   "name": "python",
   "nbconvert_exporter": "python",
   "pygments_lexer": "ipython3",
   "version": "3.7.6"
  }
 },
 "nbformat": 4,
 "nbformat_minor": 4
}
