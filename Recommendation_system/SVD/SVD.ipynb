{
 "cells": [
  {
   "cell_type": "markdown",
   "metadata": {},
   "source": [
    "# Numpy"
   ]
  },
  {
   "cell_type": "code",
   "execution_count": 79,
   "metadata": {},
   "outputs": [],
   "source": [
    "import pandas as pd\n",
    "import numpy as np\n",
    "from numpy.linalg import svd\n",
    "from sklearn.decomposition import TruncatedSVD"
   ]
  },
  {
   "cell_type": "markdown",
   "metadata": {},
   "source": [
    "### Tutorial"
   ]
  },
  {
   "cell_type": "code",
   "execution_count": 33,
   "metadata": {},
   "outputs": [],
   "source": [
    "m = np.matrix([[1, 0, 0], \n",
    "               [1, 1, 0], \n",
    "               [0, 0, 1]])\n",
    "u, s, v = np.linalg.svd(m)"
   ]
  },
  {
   "cell_type": "code",
   "execution_count": 34,
   "metadata": {},
   "outputs": [
    {
     "data": {
      "text/plain": [
       "matrix([[-0.52573111,  0.        , -0.85065081],\n",
       "        [-0.85065081,  0.        ,  0.52573111],\n",
       "        [ 0.        ,  1.        ,  0.        ]])"
      ]
     },
     "execution_count": 34,
     "metadata": {},
     "output_type": "execute_result"
    }
   ],
   "source": [
    "u"
   ]
  },
  {
   "cell_type": "code",
   "execution_count": 35,
   "metadata": {},
   "outputs": [
    {
     "data": {
      "text/plain": [
       "array([1.61803399, 1.        , 0.61803399])"
      ]
     },
     "execution_count": 35,
     "metadata": {},
     "output_type": "execute_result"
    }
   ],
   "source": [
    "s"
   ]
  },
  {
   "cell_type": "code",
   "execution_count": 36,
   "metadata": {},
   "outputs": [
    {
     "data": {
      "text/plain": [
       "matrix([[-0.85065081, -0.52573111, -0.        ],\n",
       "        [ 0.        ,  0.        ,  1.        ],\n",
       "        [-0.52573111,  0.85065081,  0.        ]])"
      ]
     },
     "execution_count": 36,
     "metadata": {},
     "output_type": "execute_result"
    }
   ],
   "source": [
    "v"
   ]
  },
  {
   "cell_type": "code",
   "execution_count": 37,
   "metadata": {},
   "outputs": [
    {
     "data": {
      "text/plain": [
       "matrix([[ 1.00000000e+00, -8.51707167e-17,  0.00000000e+00],\n",
       "        [ 1.00000000e+00,  1.00000000e+00,  0.00000000e+00],\n",
       "        [ 0.00000000e+00,  0.00000000e+00,  1.00000000e+00]])"
      ]
     },
     "execution_count": 37,
     "metadata": {},
     "output_type": "execute_result"
    }
   ],
   "source": [
    "np.dot(u, np.dot(np.diag(s), v))"
   ]
  },
  {
   "cell_type": "markdown",
   "metadata": {},
   "source": [
    "### Advanced"
   ]
  },
  {
   "cell_type": "code",
   "execution_count": 6,
   "metadata": {},
   "outputs": [],
   "source": [
    "a = np.random.randn(9, 6) + 1j*np.random.randn(9, 6)\n",
    "b = np.random.randn(2, 7, 8, 3) + 1j*np.random.randn(2, 7, 8, 3)"
   ]
  },
  {
   "cell_type": "code",
   "execution_count": 25,
   "metadata": {},
   "outputs": [
    {
     "data": {
      "text/plain": [
       "True"
      ]
     },
     "execution_count": 25,
     "metadata": {},
     "output_type": "execute_result"
    }
   ],
   "source": [
    "u, s, vh = np.linalg.svd(a, full_matrices=True)\n",
    "\n",
    "np.allclose(a, np.dot(u[:, :6] * s, vh))\n",
    "\n",
    "smat = np.zeros((9, 6), dtype=complex)\n",
    "smat[:6, :6] = np.diag(s)\n",
    "np.allclose(a, np.dot(u, np.dot(smat, vh)))"
   ]
  },
  {
   "cell_type": "code",
   "execution_count": 70,
   "metadata": {},
   "outputs": [],
   "source": [
    "X = np.random.random((5, 8))\n",
    "X = X.round(2)"
   ]
  },
  {
   "cell_type": "code",
   "execution_count": 71,
   "metadata": {},
   "outputs": [
    {
     "data": {
      "text/plain": [
       "array([[-0.02, -0.3 ,  0.38,  0.03, -0.2 ,  0.24,  0.23,  0.11],\n",
       "       [-0.07, -0.3 ,  0.29,  0.01,  0.02, -0.3 , -0.51, -0.25],\n",
       "       [-0.25,  0.01,  0.36,  0.15,  0.26, -0.01,  0.05,  0.08],\n",
       "       [-0.01,  0.29, -0.54,  0.03, -0.01, -0.01,  0.49,  0.18],\n",
       "       [ 0.35,  0.32, -0.48, -0.21, -0.05,  0.06, -0.26, -0.1 ]])"
      ]
     },
     "execution_count": 71,
     "metadata": {},
     "output_type": "execute_result"
    }
   ],
   "source": [
    "X_0mean = X - X.mean(0)\n",
    "X_0mean.round(2)"
   ]
  },
  {
   "cell_type": "code",
   "execution_count": 74,
   "metadata": {},
   "outputs": [],
   "source": [
    "U, s, Vh = svd(X_0mean, full_matrices=False)"
   ]
  },
  {
   "cell_type": "code",
   "execution_count": 75,
   "metadata": {},
   "outputs": [
    {
     "data": {
      "text/plain": [
       "array([[-0.27827555,  0.45856512,  0.71573725,  0.00096885,  0.4472136 ],\n",
       "       [-0.5069438 , -0.51472599, -0.14606446, -0.50668561,  0.4472136 ],\n",
       "       [-0.28528379,  0.2826214 , -0.57217705,  0.557989  ,  0.4472136 ],\n",
       "       [ 0.61006928,  0.3446224 , -0.26237227, -0.49011394,  0.4472136 ],\n",
       "       [ 0.46043386, -0.57108294,  0.26487654,  0.4378417 ,  0.4472136 ]])"
      ]
     },
     "execution_count": 75,
     "metadata": {},
     "output_type": "execute_result"
    }
   ],
   "source": [
    "U"
   ]
  },
  {
   "cell_type": "code",
   "execution_count": 76,
   "metadata": {},
   "outputs": [
    {
     "data": {
      "text/plain": [
       "array([1.17639649e+00, 8.86787103e-01, 5.02282425e-01, 3.02079958e-01,\n",
       "       3.24267571e-16])"
      ]
     },
     "execution_count": 76,
     "metadata": {},
     "output_type": "execute_result"
    }
   ],
   "source": [
    "s"
   ]
  },
  {
   "cell_type": "code",
   "execution_count": 77,
   "metadata": {},
   "outputs": [
    {
     "data": {
      "text/plain": [
       "array([[ 0.22732445,  0.47345593, -0.7700688 , -0.11441662, -0.04911604,\n",
       "         0.09322978,  0.30558993,  0.11651856],\n",
       "       [-0.27867014, -0.07119135,  0.24216819,  0.20441095, -0.00385443,\n",
       "         0.25252511,  0.78875509,  0.36183848],\n",
       "       [ 0.46643985, -0.33437577,  0.07600906, -0.25744545, -0.60813371,\n",
       "         0.47748906,  0.02602774, -0.00844468],\n",
       "       [ 0.17908205,  0.51400703,  0.36017909, -0.09265631,  0.3898263 ,\n",
       "         0.58868506, -0.22332737,  0.13047015],\n",
       "       [-0.36992165,  0.54478502,  0.22899244, -0.10609532, -0.65473657,\n",
       "        -0.17421768, -0.14203411,  0.15319281]])"
      ]
     },
     "execution_count": 77,
     "metadata": {},
     "output_type": "execute_result"
    }
   ],
   "source": [
    "Vh"
   ]
  },
  {
   "cell_type": "code",
   "execution_count": 81,
   "metadata": {},
   "outputs": [
    {
     "data": {
      "text/plain": [
       "TruncatedSVD(algorithm='randomized', n_components=3, n_iter=5,\n",
       "             random_state=None, tol=0.0)"
      ]
     },
     "execution_count": 81,
     "metadata": {},
     "output_type": "execute_result"
    }
   ],
   "source": [
    "k = 3\n",
    "svd_tr = TruncatedSVD(n_components=k)\n",
    "svd_tr.fit(X_0mean)"
   ]
  },
  {
   "cell_type": "code",
   "execution_count": null,
   "metadata": {},
   "outputs": [],
   "source": []
  }
 ],
 "metadata": {
  "kernelspec": {
   "display_name": "Python 3",
   "language": "python",
   "name": "python3"
  },
  "language_info": {
   "codemirror_mode": {
    "name": "ipython",
    "version": 3
   },
   "file_extension": ".py",
   "mimetype": "text/x-python",
   "name": "python",
   "nbconvert_exporter": "python",
   "pygments_lexer": "ipython3",
   "version": "3.7.6"
  }
 },
 "nbformat": 4,
 "nbformat_minor": 4
}
