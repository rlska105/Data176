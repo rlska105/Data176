{
 "cells": [
  {
   "cell_type": "markdown",
   "metadata": {},
   "source": [
    "# SVD(Singular Value Decomposition)\n",
    "- 정의 : 차원 축소를 구현 하는데 가장 흔하게 사용되는 MF의 대표적인 방법입니다. 특이값 분해라고 하는데, 특이값 분해란 정방 행렬이 아닌 행렬 M에 대해서 고유 분해를 하는 것입니다. 가령, 모든 사용자들이 모든 상품들에 대해서 평점을 매기는 것은 불가능하기 때문에 실제 행렬 R 은 대부분 희소 행렬(sparse matrix)이 되는데 이 문제를 해결하기 위해 특이값 분해를 합니다. 영화 평점이라는 행렬(A)을 SVD를 이용하여 사용자 행렬(U), 특성 행렬(Σ), 영화 행렬(Vt)로 만들어서 추천 데이터 생성에 필요한 데이터를 최소화 하고, 비어있는 고객의 평점을 예측하여 추천 시스템에 적용하는 것을 말합니다.<br><br>\n",
    "\n",
    "- U, s, Vt : M는 utility matrix, U는 left singular matrix로 유저와 latent factor 간의 관계를 나타냅니다. S는 diagonal matrix로 각 latent factor의 중요함의 정도를 나타내고 VT는 right singular matrix로 아이템과 latent matrix 간의 유사도를 나타냅니다. 계속 언급되는 latent vector 가 뭘까요? 이건 유저나 아이템이 갖는 특성과 같은 것을 좀 더 넓은 범위로 설명하는 겁니다. 예를 들명, 음악에서 latent factor 는 음악이 속한 장르와 같은 것들을 포함하죠. SVD는 utility matrix에서 latent factor를 추출하면서 차원을 감소시킵니다. 본질적으로, 각각의 유저와 아이템을 r차원을 가진 latent space로 옮기는 거죠. 그렇게 하므로 유저와 아이템이 직접 비교가 가능해지면서 그들간의 관계를 더 이해하기 쉽게 됩니다.<br><br>\n",
    "\n",
    "- 장점 : MF방식의 Sparsity문제를 해결합니다.<br><br>\n",
    "\n",
    "- 단점 : 추천하는 방식에 대해 구체적인 설명이나 이유가 없다는 것이 단점입니다.<br><br>\n",
    "\n",
    "- Types of SVD in python<br>\n",
    "from numpy.linalg import svd<br>\n",
    "from scipy.sparse.linalg import svds<br>\n",
    "from sklearn.decomposition import TruncatedSVD<br>\n",
    "from surprise import SVD<br>"
   ]
  },
  {
   "cell_type": "code",
   "execution_count": null,
   "metadata": {},
   "outputs": [],
   "source": []
  }
 ],
 "metadata": {
  "kernelspec": {
   "display_name": "Python 3",
   "language": "python",
   "name": "python3"
  },
  "language_info": {
   "codemirror_mode": {
    "name": "ipython",
    "version": 3
   },
   "file_extension": ".py",
   "mimetype": "text/x-python",
   "name": "python",
   "nbconvert_exporter": "python",
   "pygments_lexer": "ipython3",
   "version": "3.7.6"
  }
 },
 "nbformat": 4,
 "nbformat_minor": 4
}
