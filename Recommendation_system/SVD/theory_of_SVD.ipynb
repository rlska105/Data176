{
 "cells": [
  {
   "cell_type": "markdown",
   "metadata": {},
   "source": [
    "# SVD(Singular Value Decomposition)\n",
    "- 정의 : SVD는 특이값 분해라고 하는데, 특이값 분해란 행렬에 대해서 고유 분해를 하는 것을 말합니다. 이것은 기하급수적으로 생성되는 데이터의 크기를 줄이는데 큰 목적성을 띄고, 불필요한 데이터를 제거하는데도 큰 역활을 합니다. 가령, 모든 사용자들이 모든 상품들에 대해서 평점을 매기는 것은 불가능하기 때문에 이 데이터는 대부분 빈 공간이 많은 희소 행렬(sparse matrix)의 모습을 보이는데 이 문제를 해결하기 위해 특이값 분해를 합니다. 데이터를 행렬로 만든 행렬(A)을 SVD를 적용하여 사용자 행렬(U), 시그마 행렬(Σ), 영화 행렬(Vt)로 만들어서 각각의 유사도를 구한다음, 비어있는 고객의 평점을 예측하여 추천을 합니다.<br><br>\n",
    "\n",
    "- U, s, Vt: U와 Vt는 특이 벡터(Singular vector)라고 불리고 서로 직교하는 성질이 있습니다. s는 대각 행렬의 성질을 가지고 있습니다. <br>\n",
    "*특이 벡터 : 시그마 행렬의 대각 항목.<br>\n",
    "*직교 : 두 직선 또는 두 평면이 직각을 이루며 만나는 일.<br><br>\n",
    "\n",
    "- 장점 : MF방식의 Sparsity문제를 해결합니다.<br><br>\n",
    "\n",
    "- 단점 : 추천하는 방식에 대해 구체적인 설명이나 이유가 없다는 것이 단점입니다.<br><br>\n",
    "\n",
    "- Types of SVD in python<br>\n",
    "from numpy.linalg import svd<br>\n",
    "from scipy.sparse.linalg import svds<br>\n",
    "from sklearn.decomposition import TruncatedSVD<br>\n",
    "from surprise import SVD<br>"
   ]
  },
  {
   "cell_type": "markdown",
   "metadata": {},
   "source": [
    "## surprise\n",
    "\n",
    "- Surprise는 Python의 library이며 다양한 추천 알고리즘과 추천기를 쉽게 구현할 수 있습니다. dataframe은 세개의 컬럼을 가지고 있어야 하며 이는 user (raw) ids, the item (raw) ids, the ratings입니다.<br><br>\n",
    "\n",
    "- 장점 : 추천 시스템에 적합한 데이터가 있습니다.<br><br>\n",
    "\n",
    "- GridSearchCV : 알고리즘의 행렬 정확도를 계산해 최적의 파라미터 값을 찾는 모듈입니다.<br><br>\n",
    "\n",
    "- Features<br>\n",
    "from surprise import Dataset<br>\n",
    "from surprise.model_selection import train_test_split<br>\n",
    "from surprise import SVD, evaluate<br>\n",
    "from surprise import KNNWithMeans<br>\n",
    "from surprise import accuracy<br>\n",
    "from surprise.model_selection import cross_validate<br>\n",
    "from surprise.model_selection import GridSearchCV<br>"
   ]
  },
  {
   "cell_type": "code",
   "execution_count": null,
   "metadata": {},
   "outputs": [],
   "source": []
  }
 ],
 "metadata": {
  "kernelspec": {
   "display_name": "Python 3",
   "language": "python",
   "name": "python3"
  },
  "language_info": {
   "codemirror_mode": {
    "name": "ipython",
    "version": 3
   },
   "file_extension": ".py",
   "mimetype": "text/x-python",
   "name": "python",
   "nbconvert_exporter": "python",
   "pygments_lexer": "ipython3",
   "version": "3.7.6"
  }
 },
 "nbformat": 4,
 "nbformat_minor": 4
}
