{
 "cells": [
  {
   "cell_type": "markdown",
   "metadata": {},
   "source": [
    "# Keras\n",
    "\n",
    "- 개요 : 케라스는 ANN을 수행하는 텐서플로우의 오픈소스 라이브러리이며, CPU와 GPU 둘 다 사용이 가능하다는 특징을 가지고 있음 \n",
    "\n",
    "- 자연어 처리에서의 케라스 : 케라스는 토큰화, 원_핫_인코딩 그리고 불용어 제거 등, 자연어 처리에서 필요한 전처리를 수행\n",
    "\n",
    "- 패키지<br>\n",
    "ModelCheckpoint : 케라스 모델이나 모델의 가중치를 저장하여 보여줌<br>\n",
    "TensorFlow hub : 머신러닝 모델을 저장해 놓은 모델 저장소(BERT도 이 헙을 통해서 불러올 수 있음)"
   ]
  },
  {
   "cell_type": "code",
   "execution_count": null,
   "metadata": {},
   "outputs": [],
   "source": []
  }
 ],
 "metadata": {
  "kernelspec": {
   "display_name": "Python 3",
   "language": "python",
   "name": "python3"
  },
  "language_info": {
   "codemirror_mode": {
    "name": "ipython",
    "version": 3
   },
   "file_extension": ".py",
   "mimetype": "text/x-python",
   "name": "python",
   "nbconvert_exporter": "python",
   "pygments_lexer": "ipython3",
   "version": "3.7.9"
  }
 },
 "nbformat": 4,
 "nbformat_minor": 4
}
