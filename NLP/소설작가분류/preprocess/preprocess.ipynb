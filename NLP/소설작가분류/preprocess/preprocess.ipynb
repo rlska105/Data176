{
 "cells": [
  {
   "cell_type": "code",
   "execution_count": 1,
   "metadata": {},
   "outputs": [],
   "source": [
    "import numpy as np\n",
    "import pandas as pd\n",
    "import re\n",
    "import datetime as dt\n",
    "\n",
    "%matplotlib inline\n",
    "import matplotlib\n",
    "import matplotlib.pyplot as plt\n",
    "import seaborn as sns\n",
    "import string\n",
    "\n",
    "import nltk \n",
    "from sklearn.pipeline import Pipeline\n",
    "from sklearn.feature_extraction.text import CountVectorizer, TfidfVectorizer\n",
    "from sklearn.linear_model import LogisticRegression\n",
    "from sklearn.model_selection import train_test_split, cross_val_score, KFold\n",
    "\n",
    "\n",
    "from io import StringIO\n",
    "from sklearn.feature_extraction.text import TfidfVectorizer\n",
    "from sklearn.feature_selection import chi2\n",
    "from IPython.display import display\n",
    "from sklearn.model_selection import train_test_split\n",
    "from sklearn.feature_extraction.text import TfidfTransformer\n",
    "from sklearn.naive_bayes import MultinomialNB\n",
    "from sklearn.linear_model import LogisticRegression\n",
    "from sklearn.ensemble import RandomForestClassifier\n",
    "from sklearn.svm import LinearSVC\n",
    "from sklearn.model_selection import cross_val_score\n",
    "from sklearn.metrics import confusion_matrix\n",
    "from sklearn import metrics\n",
    "from sklearn.metrics import log_loss\n",
    "from sklearn.decomposition import PCA, TruncatedSVD\n",
    "from sklearn.metrics import classification_report,confusion_matrix\n",
    "import matplotlib.pyplot as plt\n",
    "%matplotlib inline\n",
    "import seaborn as sns\n",
    "plt.style.use('ggplot')\n",
    "import matplotlib.patches as mpatches"
   ]
  },
  {
   "cell_type": "code",
   "execution_count": null,
   "metadata": {},
   "outputs": [],
   "source": [
    "import joblib"
   ]
  },
  {
   "cell_type": "code",
   "execution_count": null,
   "metadata": {},
   "outputs": [],
   "source": [
    "import pickle"
   ]
  },
  {
   "cell_type": "markdown",
   "metadata": {},
   "source": [
    "Encoding : TF-IDF<br>\n",
    "modeling : randomforest"
   ]
  },
  {
   "cell_type": "code",
   "execution_count": 16,
   "metadata": {},
   "outputs": [
    {
     "data": {
      "text/html": [
       "<div>\n",
       "<style scoped>\n",
       "    .dataframe tbody tr th:only-of-type {\n",
       "        vertical-align: middle;\n",
       "    }\n",
       "\n",
       "    .dataframe tbody tr th {\n",
       "        vertical-align: top;\n",
       "    }\n",
       "\n",
       "    .dataframe thead th {\n",
       "        text-align: right;\n",
       "    }\n",
       "</style>\n",
       "<table border=\"1\" class=\"dataframe\">\n",
       "  <thead>\n",
       "    <tr style=\"text-align: right;\">\n",
       "      <th></th>\n",
       "      <th>index</th>\n",
       "      <th>text</th>\n",
       "      <th>author</th>\n",
       "      <th>text_new</th>\n",
       "    </tr>\n",
       "  </thead>\n",
       "  <tbody>\n",
       "    <tr>\n",
       "      <th>0</th>\n",
       "      <td>0</td>\n",
       "      <td>He was almost choking. There was so much, so m...</td>\n",
       "      <td>3</td>\n",
       "      <td>almost choking much much wanted say strange ex...</td>\n",
       "    </tr>\n",
       "    <tr>\n",
       "      <th>1</th>\n",
       "      <td>1</td>\n",
       "      <td>“Your sister asked for it, I suppose?”</td>\n",
       "      <td>2</td>\n",
       "      <td>sister asked suppose</td>\n",
       "    </tr>\n",
       "    <tr>\n",
       "      <th>2</th>\n",
       "      <td>2</td>\n",
       "      <td>She was engaged one day as she walked, in per...</td>\n",
       "      <td>1</td>\n",
       "      <td>engaged one day walked perusing janes last let...</td>\n",
       "    </tr>\n",
       "    <tr>\n",
       "      <th>3</th>\n",
       "      <td>3</td>\n",
       "      <td>The captain was in the porch, keeping himself ...</td>\n",
       "      <td>4</td>\n",
       "      <td>captain porch keeping carefully way treacherou...</td>\n",
       "    </tr>\n",
       "    <tr>\n",
       "      <th>4</th>\n",
       "      <td>4</td>\n",
       "      <td>“Have mercy, gentlemen!” odin flung up his han...</td>\n",
       "      <td>3</td>\n",
       "      <td>mercy gentlemen odin flung hands dont write an...</td>\n",
       "    </tr>\n",
       "    <tr>\n",
       "      <th>...</th>\n",
       "      <td>...</td>\n",
       "      <td>...</td>\n",
       "      <td>...</td>\n",
       "      <td>...</td>\n",
       "    </tr>\n",
       "    <tr>\n",
       "      <th>54874</th>\n",
       "      <td>54874</td>\n",
       "      <td>“Is that you, Mr. Smith?” odin whispered. “I h...</td>\n",
       "      <td>2</td>\n",
       "      <td>mr smith odin whispered hardly dared hope woul...</td>\n",
       "    </tr>\n",
       "    <tr>\n",
       "      <th>54875</th>\n",
       "      <td>54875</td>\n",
       "      <td>I told my plan to the captain, and between us ...</td>\n",
       "      <td>4</td>\n",
       "      <td>told plan captain us settled details accomplis...</td>\n",
       "    </tr>\n",
       "    <tr>\n",
       "      <th>54876</th>\n",
       "      <td>54876</td>\n",
       "      <td>\"Your sincere well-wisher, friend, and sister...</td>\n",
       "      <td>1</td>\n",
       "      <td>sincere wellwisher friend sister lucy odin</td>\n",
       "    </tr>\n",
       "    <tr>\n",
       "      <th>54877</th>\n",
       "      <td>54877</td>\n",
       "      <td>“Then you wanted me to lend you money?”</td>\n",
       "      <td>3</td>\n",
       "      <td>wanted lend money</td>\n",
       "    </tr>\n",
       "    <tr>\n",
       "      <th>54878</th>\n",
       "      <td>54878</td>\n",
       "      <td>It certainly had not occurred to me before, bu...</td>\n",
       "      <td>0</td>\n",
       "      <td>certainly occurred said yes like</td>\n",
       "    </tr>\n",
       "  </tbody>\n",
       "</table>\n",
       "<p>54879 rows × 4 columns</p>\n",
       "</div>"
      ],
      "text/plain": [
       "       index                                               text  author  \\\n",
       "0          0  He was almost choking. There was so much, so m...       3   \n",
       "1          1             “Your sister asked for it, I suppose?”       2   \n",
       "2          2   She was engaged one day as she walked, in per...       1   \n",
       "3          3  The captain was in the porch, keeping himself ...       4   \n",
       "4          4  “Have mercy, gentlemen!” odin flung up his han...       3   \n",
       "...      ...                                                ...     ...   \n",
       "54874  54874  “Is that you, Mr. Smith?” odin whispered. “I h...       2   \n",
       "54875  54875  I told my plan to the captain, and between us ...       4   \n",
       "54876  54876   \"Your sincere well-wisher, friend, and sister...       1   \n",
       "54877  54877            “Then you wanted me to lend you money?”       3   \n",
       "54878  54878  It certainly had not occurred to me before, bu...       0   \n",
       "\n",
       "                                                text_new  \n",
       "0      almost choking much much wanted say strange ex...  \n",
       "1                                   sister asked suppose  \n",
       "2      engaged one day walked perusing janes last let...  \n",
       "3      captain porch keeping carefully way treacherou...  \n",
       "4      mercy gentlemen odin flung hands dont write an...  \n",
       "...                                                  ...  \n",
       "54874  mr smith odin whispered hardly dared hope woul...  \n",
       "54875  told plan captain us settled details accomplis...  \n",
       "54876         sincere wellwisher friend sister lucy odin  \n",
       "54877                                  wanted lend money  \n",
       "54878                   certainly occurred said yes like  \n",
       "\n",
       "[54879 rows x 4 columns]"
      ]
     },
     "execution_count": 16,
     "metadata": {},
     "output_type": "execute_result"
    }
   ],
   "source": [
    "train"
   ]
  },
  {
   "cell_type": "code",
   "execution_count": 14,
   "metadata": {},
   "outputs": [
    {
     "data": {
      "text/html": [
       "<div>\n",
       "<style scoped>\n",
       "    .dataframe tbody tr th:only-of-type {\n",
       "        vertical-align: middle;\n",
       "    }\n",
       "\n",
       "    .dataframe tbody tr th {\n",
       "        vertical-align: top;\n",
       "    }\n",
       "\n",
       "    .dataframe thead th {\n",
       "        text-align: right;\n",
       "    }\n",
       "</style>\n",
       "<table border=\"1\" class=\"dataframe\">\n",
       "  <thead>\n",
       "    <tr style=\"text-align: right;\">\n",
       "      <th></th>\n",
       "      <th>index</th>\n",
       "      <th>text</th>\n",
       "      <th>author</th>\n",
       "      <th>text_new</th>\n",
       "    </tr>\n",
       "  </thead>\n",
       "  <tbody>\n",
       "    <tr>\n",
       "      <th>0</th>\n",
       "      <td>0</td>\n",
       "      <td>He was almost choking. There was so much, so m...</td>\n",
       "      <td>3</td>\n",
       "      <td>almost choking much much wanted say strange ex...</td>\n",
       "    </tr>\n",
       "    <tr>\n",
       "      <th>1</th>\n",
       "      <td>1</td>\n",
       "      <td>“Your sister asked for it, I suppose?”</td>\n",
       "      <td>2</td>\n",
       "      <td>sister asked suppose</td>\n",
       "    </tr>\n",
       "  </tbody>\n",
       "</table>\n",
       "</div>"
      ],
      "text/plain": [
       "   index                                               text  author  \\\n",
       "0      0  He was almost choking. There was so much, so m...       3   \n",
       "1      1             “Your sister asked for it, I suppose?”       2   \n",
       "\n",
       "                                            text_new  \n",
       "0  almost choking much much wanted say strange ex...  \n",
       "1                               sister asked suppose  "
      ]
     },
     "execution_count": 14,
     "metadata": {},
     "output_type": "execute_result"
    }
   ],
   "source": [
    "train.head(2)"
   ]
  },
  {
   "cell_type": "code",
   "execution_count": 8,
   "metadata": {},
   "outputs": [],
   "source": [
    "#Remove Urls and HTML links\n",
    "def remove_urls(text):\n",
    "    url_remove = re.compile(r'https?://\\S+|www\\.\\S+')\n",
    "    return url_remove.sub(r'', text)\n",
    "train['text_new']=train['text'].apply(lambda x:remove_urls(x))\n",
    "test['text_new']=test['text'].apply(lambda x:remove_urls(x))\n",
    "\n",
    "def remove_html(text):\n",
    "    html=re.compile(r'<.*?>')\n",
    "    return html.sub(r'',text)\n",
    "train['text_new']=train['text_new'].apply(lambda x:remove_html(x))\n",
    "test['text_new']=test['text_new'].apply(lambda x:remove_html(x))"
   ]
  },
  {
   "cell_type": "code",
   "execution_count": 9,
   "metadata": {},
   "outputs": [],
   "source": [
    "# Lower casing\n",
    "def lower(text):\n",
    "    low_text= text.lower()\n",
    "    return low_text\n",
    "train['text_new']=train['text_new'].apply(lambda x:lower(x))\n",
    "test['text_new']=test['text_new'].apply(lambda x:lower(x))\n",
    "\n",
    "\n",
    "# Number removal\n",
    "def remove_num(text):\n",
    "    remove= re.sub(r'\\d+', '', text)\n",
    "    return remove\n",
    "train['text_new']=train['text_new'].apply(lambda x:remove_num(x))\n",
    "test['text_new']=test['text_new'].apply(lambda x:remove_num(x))"
   ]
  },
  {
   "cell_type": "code",
   "execution_count": 10,
   "metadata": {},
   "outputs": [],
   "source": [
    "#Remove stopwords & Punctuations\n",
    "from nltk.corpus import stopwords\n",
    "\", \".join(stopwords.words('english'))\n",
    "STOPWORDS = set(stopwords.words('english'))\n",
    "\n",
    "def punct_remove(text):\n",
    "    punct = re.sub(r\"[^\\w\\s\\d]\",\"\", text)\n",
    "    return punct\n",
    "train['text_new']=train['text_new'].apply(lambda x:punct_remove(x))\n",
    "test['text_new']=test['text_new'].apply(lambda x:punct_remove(x))\n",
    "\n",
    "\n",
    "def remove_stopwords(text):\n",
    "    \"\"\"custom function to remove the stopwords\"\"\"\n",
    "    return \" \".join([word for word in str(text).split() if word not in STOPWORDS])\n",
    "train['text_new']=train['text_new'].apply(lambda x:remove_stopwords(x))\n",
    "test['text_new']=test['text_new'].apply(lambda x:remove_stopwords(x))"
   ]
  },
  {
   "cell_type": "code",
   "execution_count": 13,
   "metadata": {},
   "outputs": [
    {
     "data": {
      "text/html": [
       "<div>\n",
       "<style scoped>\n",
       "    .dataframe tbody tr th:only-of-type {\n",
       "        vertical-align: middle;\n",
       "    }\n",
       "\n",
       "    .dataframe tbody tr th {\n",
       "        vertical-align: top;\n",
       "    }\n",
       "\n",
       "    .dataframe thead th {\n",
       "        text-align: right;\n",
       "    }\n",
       "</style>\n",
       "<table border=\"1\" class=\"dataframe\">\n",
       "  <thead>\n",
       "    <tr style=\"text-align: right;\">\n",
       "      <th></th>\n",
       "      <th>index</th>\n",
       "      <th>text</th>\n",
       "      <th>author</th>\n",
       "      <th>text_new</th>\n",
       "    </tr>\n",
       "  </thead>\n",
       "  <tbody>\n",
       "    <tr>\n",
       "      <th>0</th>\n",
       "      <td>0</td>\n",
       "      <td>He was almost choking. There was so much, so m...</td>\n",
       "      <td>3</td>\n",
       "      <td>almost choking much much wanted say strange ex...</td>\n",
       "    </tr>\n",
       "    <tr>\n",
       "      <th>1</th>\n",
       "      <td>1</td>\n",
       "      <td>“Your sister asked for it, I suppose?”</td>\n",
       "      <td>2</td>\n",
       "      <td>sister asked suppose</td>\n",
       "    </tr>\n",
       "  </tbody>\n",
       "</table>\n",
       "</div>"
      ],
      "text/plain": [
       "   index                                               text  author  \\\n",
       "0      0  He was almost choking. There was so much, so m...       3   \n",
       "1      1             “Your sister asked for it, I suppose?”       2   \n",
       "\n",
       "                                            text_new  \n",
       "0  almost choking much much wanted say strange ex...  \n",
       "1                               sister asked suppose  "
      ]
     },
     "execution_count": 13,
     "metadata": {},
     "output_type": "execute_result"
    }
   ],
   "source": [
    "train.head(2)"
   ]
  },
  {
   "cell_type": "code",
   "execution_count": 14,
   "metadata": {},
   "outputs": [
    {
     "data": {
      "text/html": [
       "<div>\n",
       "<style scoped>\n",
       "    .dataframe tbody tr th:only-of-type {\n",
       "        vertical-align: middle;\n",
       "    }\n",
       "\n",
       "    .dataframe tbody tr th {\n",
       "        vertical-align: top;\n",
       "    }\n",
       "\n",
       "    .dataframe thead th {\n",
       "        text-align: right;\n",
       "    }\n",
       "</style>\n",
       "<table border=\"1\" class=\"dataframe\">\n",
       "  <thead>\n",
       "    <tr style=\"text-align: right;\">\n",
       "      <th></th>\n",
       "      <th>index</th>\n",
       "      <th>text</th>\n",
       "      <th>text_new</th>\n",
       "    </tr>\n",
       "  </thead>\n",
       "  <tbody>\n",
       "    <tr>\n",
       "      <th>0</th>\n",
       "      <td>0</td>\n",
       "      <td>“Not at all. I think she is one of the most ch...</td>\n",
       "      <td>think one charming young ladies ever met might...</td>\n",
       "    </tr>\n",
       "    <tr>\n",
       "      <th>1</th>\n",
       "      <td>1</td>\n",
       "      <td>\"No,\" replied he, with sudden consciousness, \"...</td>\n",
       "      <td>replied sudden consciousness find cannot ignor...</td>\n",
       "    </tr>\n",
       "  </tbody>\n",
       "</table>\n",
       "</div>"
      ],
      "text/plain": [
       "   index                                               text  \\\n",
       "0      0  “Not at all. I think she is one of the most ch...   \n",
       "1      1  \"No,\" replied he, with sudden consciousness, \"...   \n",
       "\n",
       "                                            text_new  \n",
       "0  think one charming young ladies ever met might...  \n",
       "1  replied sudden consciousness find cannot ignor...  "
      ]
     },
     "execution_count": 14,
     "metadata": {},
     "output_type": "execute_result"
    }
   ],
   "source": [
    "test.head(2)"
   ]
  },
  {
   "cell_type": "code",
   "execution_count": 24,
   "metadata": {},
   "outputs": [],
   "source": [
    "from nltk.tokenize import word_tokenize\n",
    "from nltk.stem import WordNetLemmatizer \n",
    "from nltk.stem.snowball import SnowballStemmer\n",
    "from sklearn.model_selection import StratifiedKFold"
   ]
  },
  {
   "cell_type": "code",
   "execution_count": 12,
   "metadata": {},
   "outputs": [],
   "source": [
    "target_col = 'author'\n",
    "n_fold = 5\n",
    "n_class = 5\n",
    "seed = 42"
   ]
  },
  {
   "cell_type": "code",
   "execution_count": 17,
   "metadata": {},
   "outputs": [],
   "source": [
    "# vec = CountVectorizer(tokenizer=word_tokenize, stop_words=stopwords.words('english'), ngram_range=(1, 2), min_df=100)\n",
    "# X_cnt = vec.fit_transform(train['text_new'])\n",
    "# print(X_cnt.shape)"
   ]
  },
  {
   "cell_type": "code",
   "execution_count": 16,
   "metadata": {},
   "outputs": [
    {
     "name": "stderr",
     "output_type": "stream",
     "text": [
      "/opt/anaconda3/lib/python3.7/site-packages/sklearn/feature_extraction/text.py:386: UserWarning: Your stop_words may be inconsistent with your preprocessing. Tokenizing the stop words generated tokens [\"'d\", \"'ll\", \"'re\", \"'s\", \"'ve\", 'could', 'might', 'must', \"n't\", 'need', 'sha', 'wo', 'would'] not in stop_words.\n",
      "  'stop_words.' % sorted(inconsistent))\n"
     ]
    },
    {
     "name": "stdout",
     "output_type": "stream",
     "text": [
      "(54879, 3355) (19617, 3355)\n"
     ]
    }
   ],
   "source": [
    "vec = TfidfVectorizer(tokenizer=word_tokenize, stop_words=stopwords.words('english'), ngram_range=(1, 3), min_df=50)\n",
    "X = vec.fit_transform(train['text_new'])\n",
    "X_tst = vec.transform(test['text_new'])\n",
    "print(X.shape, X_tst.shape)"
   ]
  },
  {
   "cell_type": "code",
   "execution_count": 19,
   "metadata": {},
   "outputs": [],
   "source": [
    "cv = StratifiedKFold(n_splits=n_fold, shuffle=True, random_state=seed)"
   ]
  },
  {
   "cell_type": "code",
   "execution_count": 21,
   "metadata": {},
   "outputs": [
    {
     "data": {
      "text/plain": [
       "(54879,)"
      ]
     },
     "execution_count": 21,
     "metadata": {},
     "output_type": "execute_result"
    }
   ],
   "source": [
    "y = train.author.values\n",
    "y.shape"
   ]
  },
  {
   "cell_type": "code",
   "execution_count": 22,
   "metadata": {},
   "outputs": [
    {
     "name": "stderr",
     "output_type": "stream",
     "text": [
      "/opt/anaconda3/lib/python3.7/site-packages/sklearn/linear_model/_logistic.py:764: ConvergenceWarning: lbfgs failed to converge (status=1):\n",
      "STOP: TOTAL NO. of ITERATIONS REACHED LIMIT.\n",
      "\n",
      "Increase the number of iterations (max_iter) or scale the data as shown in:\n",
      "    https://scikit-learn.org/stable/modules/preprocessing.html\n",
      "Please also refer to the documentation for alternative solver options:\n",
      "    https://scikit-learn.org/stable/modules/linear_model.html#logistic-regression\n",
      "  extra_warning_msg=_LOGISTIC_SOLVER_CONVERGENCE_MSG)\n",
      "/opt/anaconda3/lib/python3.7/site-packages/sklearn/linear_model/_logistic.py:764: ConvergenceWarning: lbfgs failed to converge (status=1):\n",
      "STOP: TOTAL NO. of ITERATIONS REACHED LIMIT.\n",
      "\n",
      "Increase the number of iterations (max_iter) or scale the data as shown in:\n",
      "    https://scikit-learn.org/stable/modules/preprocessing.html\n",
      "Please also refer to the documentation for alternative solver options:\n",
      "    https://scikit-learn.org/stable/modules/linear_model.html#logistic-regression\n",
      "  extra_warning_msg=_LOGISTIC_SOLVER_CONVERGENCE_MSG)\n",
      "/opt/anaconda3/lib/python3.7/site-packages/sklearn/linear_model/_logistic.py:764: ConvergenceWarning: lbfgs failed to converge (status=1):\n",
      "STOP: TOTAL NO. of ITERATIONS REACHED LIMIT.\n",
      "\n",
      "Increase the number of iterations (max_iter) or scale the data as shown in:\n",
      "    https://scikit-learn.org/stable/modules/preprocessing.html\n",
      "Please also refer to the documentation for alternative solver options:\n",
      "    https://scikit-learn.org/stable/modules/linear_model.html#logistic-regression\n",
      "  extra_warning_msg=_LOGISTIC_SOLVER_CONVERGENCE_MSG)\n",
      "/opt/anaconda3/lib/python3.7/site-packages/sklearn/linear_model/_logistic.py:764: ConvergenceWarning: lbfgs failed to converge (status=1):\n",
      "STOP: TOTAL NO. of ITERATIONS REACHED LIMIT.\n",
      "\n",
      "Increase the number of iterations (max_iter) or scale the data as shown in:\n",
      "    https://scikit-learn.org/stable/modules/preprocessing.html\n",
      "Please also refer to the documentation for alternative solver options:\n",
      "    https://scikit-learn.org/stable/modules/linear_model.html#logistic-regression\n",
      "  extra_warning_msg=_LOGISTIC_SOLVER_CONVERGENCE_MSG)\n",
      "/opt/anaconda3/lib/python3.7/site-packages/sklearn/linear_model/_logistic.py:764: ConvergenceWarning: lbfgs failed to converge (status=1):\n",
      "STOP: TOTAL NO. of ITERATIONS REACHED LIMIT.\n",
      "\n",
      "Increase the number of iterations (max_iter) or scale the data as shown in:\n",
      "    https://scikit-learn.org/stable/modules/preprocessing.html\n",
      "Please also refer to the documentation for alternative solver options:\n",
      "    https://scikit-learn.org/stable/modules/linear_model.html#logistic-regression\n",
      "  extra_warning_msg=_LOGISTIC_SOLVER_CONVERGENCE_MSG)\n"
     ]
    }
   ],
   "source": [
    "p = np.zeros((X.shape[0], n_class))\n",
    "p_tst = np.zeros((X_tst.shape[0], n_class))\n",
    "for i_cv, (i_trn, i_val) in enumerate(cv.split(X, y), 1):\n",
    "    clf = LogisticRegression()\n",
    "    clf.fit(X[i_trn], y[i_trn])\n",
    "    p[i_val, :] = clf.predict_proba(X[i_val])\n",
    "    p_tst += clf.predict_proba(X_tst) / n_class"
   ]
  },
  {
   "cell_type": "code",
   "execution_count": 28,
   "metadata": {},
   "outputs": [
    {
     "name": "stdout",
     "output_type": "stream",
     "text": [
      "Log Loss (CV):   0.8561\n"
     ]
    }
   ],
   "source": [
    "print(f'Log Loss (CV): {log_loss(pd.get_dummies(y), p):8.4f}')"
   ]
  },
  {
   "cell_type": "code",
   "execution_count": 67,
   "metadata": {},
   "outputs": [],
   "source": [
    "sub = pd.read_csv('/Users/kimginam/Data176/NLP/소설작가분류/open/sample_submission.csv',index_col=0)"
   ]
  },
  {
   "cell_type": "code",
   "execution_count": 68,
   "metadata": {},
   "outputs": [
    {
     "name": "stdout",
     "output_type": "stream",
     "text": [
      "(19617, 5)\n"
     ]
    },
    {
     "data": {
      "text/html": [
       "<div>\n",
       "<style scoped>\n",
       "    .dataframe tbody tr th:only-of-type {\n",
       "        vertical-align: middle;\n",
       "    }\n",
       "\n",
       "    .dataframe tbody tr th {\n",
       "        vertical-align: top;\n",
       "    }\n",
       "\n",
       "    .dataframe thead th {\n",
       "        text-align: right;\n",
       "    }\n",
       "</style>\n",
       "<table border=\"1\" class=\"dataframe\">\n",
       "  <thead>\n",
       "    <tr style=\"text-align: right;\">\n",
       "      <th></th>\n",
       "      <th>0</th>\n",
       "      <th>1</th>\n",
       "      <th>2</th>\n",
       "      <th>3</th>\n",
       "      <th>4</th>\n",
       "    </tr>\n",
       "    <tr>\n",
       "      <th>index</th>\n",
       "      <th></th>\n",
       "      <th></th>\n",
       "      <th></th>\n",
       "      <th></th>\n",
       "      <th></th>\n",
       "    </tr>\n",
       "  </thead>\n",
       "  <tbody>\n",
       "    <tr>\n",
       "      <th>0</th>\n",
       "      <td>0</td>\n",
       "      <td>0</td>\n",
       "      <td>0</td>\n",
       "      <td>0</td>\n",
       "      <td>0</td>\n",
       "    </tr>\n",
       "    <tr>\n",
       "      <th>1</th>\n",
       "      <td>0</td>\n",
       "      <td>0</td>\n",
       "      <td>0</td>\n",
       "      <td>0</td>\n",
       "      <td>0</td>\n",
       "    </tr>\n",
       "    <tr>\n",
       "      <th>2</th>\n",
       "      <td>0</td>\n",
       "      <td>0</td>\n",
       "      <td>0</td>\n",
       "      <td>0</td>\n",
       "      <td>0</td>\n",
       "    </tr>\n",
       "    <tr>\n",
       "      <th>3</th>\n",
       "      <td>0</td>\n",
       "      <td>0</td>\n",
       "      <td>0</td>\n",
       "      <td>0</td>\n",
       "      <td>0</td>\n",
       "    </tr>\n",
       "    <tr>\n",
       "      <th>4</th>\n",
       "      <td>0</td>\n",
       "      <td>0</td>\n",
       "      <td>0</td>\n",
       "      <td>0</td>\n",
       "      <td>0</td>\n",
       "    </tr>\n",
       "  </tbody>\n",
       "</table>\n",
       "</div>"
      ],
      "text/plain": [
       "       0  1  2  3  4\n",
       "index               \n",
       "0      0  0  0  0  0\n",
       "1      0  0  0  0  0\n",
       "2      0  0  0  0  0\n",
       "3      0  0  0  0  0\n",
       "4      0  0  0  0  0"
      ]
     },
     "execution_count": 68,
     "metadata": {},
     "output_type": "execute_result"
    }
   ],
   "source": [
    "print(sub.shape)\n",
    "sub.head()"
   ]
  },
  {
   "cell_type": "code",
   "execution_count": 69,
   "metadata": {},
   "outputs": [
    {
     "data": {
      "text/html": [
       "<div>\n",
       "<style scoped>\n",
       "    .dataframe tbody tr th:only-of-type {\n",
       "        vertical-align: middle;\n",
       "    }\n",
       "\n",
       "    .dataframe tbody tr th {\n",
       "        vertical-align: top;\n",
       "    }\n",
       "\n",
       "    .dataframe thead th {\n",
       "        text-align: right;\n",
       "    }\n",
       "</style>\n",
       "<table border=\"1\" class=\"dataframe\">\n",
       "  <thead>\n",
       "    <tr style=\"text-align: right;\">\n",
       "      <th></th>\n",
       "      <th>0</th>\n",
       "      <th>1</th>\n",
       "      <th>2</th>\n",
       "      <th>3</th>\n",
       "      <th>4</th>\n",
       "    </tr>\n",
       "    <tr>\n",
       "      <th>index</th>\n",
       "      <th></th>\n",
       "      <th></th>\n",
       "      <th></th>\n",
       "      <th></th>\n",
       "      <th></th>\n",
       "    </tr>\n",
       "  </thead>\n",
       "  <tbody>\n",
       "    <tr>\n",
       "      <th>0</th>\n",
       "      <td>0.042951</td>\n",
       "      <td>0.697204</td>\n",
       "      <td>0.150134</td>\n",
       "      <td>0.089203</td>\n",
       "      <td>0.020507</td>\n",
       "    </tr>\n",
       "    <tr>\n",
       "      <th>1</th>\n",
       "      <td>0.234962</td>\n",
       "      <td>0.228165</td>\n",
       "      <td>0.119533</td>\n",
       "      <td>0.108933</td>\n",
       "      <td>0.308407</td>\n",
       "    </tr>\n",
       "    <tr>\n",
       "      <th>2</th>\n",
       "      <td>0.842447</td>\n",
       "      <td>0.021445</td>\n",
       "      <td>0.049168</td>\n",
       "      <td>0.009474</td>\n",
       "      <td>0.077465</td>\n",
       "    </tr>\n",
       "    <tr>\n",
       "      <th>3</th>\n",
       "      <td>0.102822</td>\n",
       "      <td>0.003485</td>\n",
       "      <td>0.640939</td>\n",
       "      <td>0.004690</td>\n",
       "      <td>0.248064</td>\n",
       "    </tr>\n",
       "    <tr>\n",
       "      <th>4</th>\n",
       "      <td>0.298971</td>\n",
       "      <td>0.246439</td>\n",
       "      <td>0.080226</td>\n",
       "      <td>0.189603</td>\n",
       "      <td>0.184761</td>\n",
       "    </tr>\n",
       "  </tbody>\n",
       "</table>\n",
       "</div>"
      ],
      "text/plain": [
       "              0         1         2         3         4\n",
       "index                                                  \n",
       "0      0.042951  0.697204  0.150134  0.089203  0.020507\n",
       "1      0.234962  0.228165  0.119533  0.108933  0.308407\n",
       "2      0.842447  0.021445  0.049168  0.009474  0.077465\n",
       "3      0.102822  0.003485  0.640939  0.004690  0.248064\n",
       "4      0.298971  0.246439  0.080226  0.189603  0.184761"
      ]
     },
     "execution_count": 69,
     "metadata": {},
     "output_type": "execute_result"
    }
   ],
   "source": [
    "sub[sub.columns] = p_tst\n",
    "sub.head()"
   ]
  },
  {
   "cell_type": "markdown",
   "metadata": {},
   "source": [
    "#  feature enginnering\n",
    "갯수 컬럼 추가<br>\n",
    "문장이나 단어 갯수 카운트 컬럼 추가<br>\n",
    "특수문자 갯수 컬럼 추가<br>\n",
    "작가별 평균 단어수"
   ]
  },
  {
   "cell_type": "code",
   "execution_count": 75,
   "metadata": {},
   "outputs": [],
   "source": [
    "# To remove the special cha\n",
    "def remove_URL(text):\n",
    "    url = re.compile(r'https?://\\S+|www\\.\\S+')\n",
    "    return url.sub(r'', text)\n",
    "\n",
    "\n",
    "def remove_emoji(text):\n",
    "    emoji_pattern = re.compile(\n",
    "        '['\n",
    "        u'\\U0001F600-\\U0001F64F'  # emoticons\n",
    "        u'\\U0001F300-\\U0001F5FF'  # symbols & pictographs\n",
    "        u'\\U0001F680-\\U0001F6FF'  # transport & map symbols\n",
    "        u'\\U0001F1E0-\\U0001F1FF'  # flags (iOS)\n",
    "        u'\\U00002702-\\U000027B0'\n",
    "        u'\\U000024C2-\\U0001F251'\n",
    "        ']+',\n",
    "        flags=re.UNICODE)\n",
    "    return emoji_pattern.sub(r'', text)\n",
    "\n",
    "\n",
    "def remove_html(text):\n",
    "    html = re.compile(r'<.*?>|&([a-z0-9]+|#[0-9]{1,6}|#x[0-9a-f]{1,6});')\n",
    "    return re.sub(html, '', text)\n",
    "\n",
    "\n",
    "def remove_punct(text):\n",
    "    table = str.maketrans('', '', string.punctuation)\n",
    "    return text.translate(table)\n",
    "\n",
    "def remove_num(text):\n",
    "    text = ''.join([i for i in text if not i.isdigit()])\n",
    "    return text\n",
    "\n",
    "# Applying helper functions\n",
    "\n",
    "train['text_clean'] = train['text'].apply(lambda x: remove_URL(x))\n",
    "train['text_clean'] = train['text_clean'].apply(lambda x: remove_emoji(x))\n",
    "train['text_clean'] = train['text_clean'].apply(lambda x: remove_html(x))\n",
    "train['text_clean'] = train['text_clean'].apply(lambda x: remove_punct(x))\n",
    "train['text_clean'] = train['text_clean'].apply(lambda x: remove_num(x))\n",
    "\n",
    "train['text_clean'] = train['text_clean'].str.replace('“','')\n",
    "train['text_clean'] = train['text_clean'].str.replace('”','')\n",
    "train['text_clean'] = train['text_clean'].str.replace('\"','')"
   ]
  },
  {
   "cell_type": "code",
   "execution_count": 76,
   "metadata": {},
   "outputs": [],
   "source": [
    "train['word_count'] = train['text_clean'].apply(lambda x: len(str(x).split()))"
   ]
  },
  {
   "cell_type": "code",
   "execution_count": 78,
   "metadata": {
    "scrolled": true
   },
   "outputs": [
    {
     "data": {
      "text/plain": [
       "37.40204004533434"
      ]
     },
     "execution_count": 78,
     "metadata": {},
     "output_type": "execute_result"
    }
   ],
   "source": [
    "train[train['author'] == 0]['word_count'].mean()"
   ]
  },
  {
   "cell_type": "code",
   "execution_count": 79,
   "metadata": {},
   "outputs": [
    {
     "data": {
      "text/plain": [
       "57.11284962614234"
      ]
     },
     "execution_count": 79,
     "metadata": {},
     "output_type": "execute_result"
    }
   ],
   "source": [
    "train[train['author'] == 1]['word_count'].mean()"
   ]
  },
  {
   "cell_type": "code",
   "execution_count": 80,
   "metadata": {},
   "outputs": [
    {
     "data": {
      "text/plain": [
       "40.07460619698806"
      ]
     },
     "execution_count": 80,
     "metadata": {},
     "output_type": "execute_result"
    }
   ],
   "source": [
    "train[train['author'] == 2]['word_count'].mean()"
   ]
  },
  {
   "cell_type": "code",
   "execution_count": 81,
   "metadata": {},
   "outputs": [
    {
     "data": {
      "text/plain": [
       "41.00092942972847"
      ]
     },
     "execution_count": 81,
     "metadata": {},
     "output_type": "execute_result"
    }
   ],
   "source": [
    "train[train['author'] == 3]['word_count'].mean()"
   ]
  },
  {
   "cell_type": "code",
   "execution_count": 82,
   "metadata": {},
   "outputs": [
    {
     "data": {
      "text/plain": [
       "41.555285073670724"
      ]
     },
     "execution_count": 82,
     "metadata": {},
     "output_type": "execute_result"
    }
   ],
   "source": [
    "train[train['author'] == 4]['word_count'].mean()"
   ]
  },
  {
   "cell_type": "code",
   "execution_count": 83,
   "metadata": {},
   "outputs": [],
   "source": [
    "train.loc[(train['author'] == 0), 'word_avg'] = 37.4\n",
    "train.loc[(train['author'] == 1), 'word_avg'] = 57.1\n",
    "train.loc[(train['author'] == 2), 'word_avg'] = 40\n",
    "train.loc[(train['author'] == 3), 'word_avg'] = 41\n",
    "train.loc[(train['author'] == 4), 'word_avg'] = 41.5"
   ]
  },
  {
   "cell_type": "code",
   "execution_count": 84,
   "metadata": {},
   "outputs": [],
   "source": [
    "au0 = train[train['author'] == 0]\n",
    "au1 = train[train['author'] == 1]\n",
    "au2 = train[train['author'] == 2]\n",
    "au3 = train[train['author'] == 3]\n",
    "au4 = train[train['author'] == 4]"
   ]
  },
  {
   "cell_type": "code",
   "execution_count": 85,
   "metadata": {},
   "outputs": [
    {
     "data": {
      "text/html": [
       "<div>\n",
       "<style scoped>\n",
       "    .dataframe tbody tr th:only-of-type {\n",
       "        vertical-align: middle;\n",
       "    }\n",
       "\n",
       "    .dataframe tbody tr th {\n",
       "        vertical-align: top;\n",
       "    }\n",
       "\n",
       "    .dataframe thead th {\n",
       "        text-align: right;\n",
       "    }\n",
       "</style>\n",
       "<table border=\"1\" class=\"dataframe\">\n",
       "  <thead>\n",
       "    <tr style=\"text-align: right;\">\n",
       "      <th></th>\n",
       "      <th>index</th>\n",
       "      <th>text</th>\n",
       "      <th>author</th>\n",
       "      <th>text_clean</th>\n",
       "      <th>word_count</th>\n",
       "      <th>word_avg</th>\n",
       "    </tr>\n",
       "  </thead>\n",
       "  <tbody>\n",
       "    <tr>\n",
       "      <th>0</th>\n",
       "      <td>0</td>\n",
       "      <td>He was almost choking. There was so much, so m...</td>\n",
       "      <td>3</td>\n",
       "      <td>He was almost choking There was so much so muc...</td>\n",
       "      <td>46</td>\n",
       "      <td>41.0</td>\n",
       "    </tr>\n",
       "    <tr>\n",
       "      <th>1</th>\n",
       "      <td>1</td>\n",
       "      <td>“Your sister asked for it, I suppose?”</td>\n",
       "      <td>2</td>\n",
       "      <td>Your sister asked for it I suppose</td>\n",
       "      <td>7</td>\n",
       "      <td>40.0</td>\n",
       "    </tr>\n",
       "    <tr>\n",
       "      <th>2</th>\n",
       "      <td>2</td>\n",
       "      <td>She was engaged one day as she walked, in per...</td>\n",
       "      <td>1</td>\n",
       "      <td>She was engaged one day as she walked in peru...</td>\n",
       "      <td>57</td>\n",
       "      <td>57.1</td>\n",
       "    </tr>\n",
       "    <tr>\n",
       "      <th>3</th>\n",
       "      <td>3</td>\n",
       "      <td>The captain was in the porch, keeping himself ...</td>\n",
       "      <td>4</td>\n",
       "      <td>The captain was in the porch keeping himself c...</td>\n",
       "      <td>58</td>\n",
       "      <td>41.5</td>\n",
       "    </tr>\n",
       "    <tr>\n",
       "      <th>4</th>\n",
       "      <td>4</td>\n",
       "      <td>“Have mercy, gentlemen!” odin flung up his han...</td>\n",
       "      <td>3</td>\n",
       "      <td>Have mercy gentlemen odin flung up his hands D...</td>\n",
       "      <td>39</td>\n",
       "      <td>41.0</td>\n",
       "    </tr>\n",
       "  </tbody>\n",
       "</table>\n",
       "</div>"
      ],
      "text/plain": [
       "   index                                               text  author  \\\n",
       "0      0  He was almost choking. There was so much, so m...       3   \n",
       "1      1             “Your sister asked for it, I suppose?”       2   \n",
       "2      2   She was engaged one day as she walked, in per...       1   \n",
       "3      3  The captain was in the porch, keeping himself ...       4   \n",
       "4      4  “Have mercy, gentlemen!” odin flung up his han...       3   \n",
       "\n",
       "                                          text_clean  word_count  word_avg  \n",
       "0  He was almost choking There was so much so muc...          46      41.0  \n",
       "1                 Your sister asked for it I suppose           7      40.0  \n",
       "2   She was engaged one day as she walked in peru...          57      57.1  \n",
       "3  The captain was in the porch keeping himself c...          58      41.5  \n",
       "4  Have mercy gentlemen odin flung up his hands D...          39      41.0  "
      ]
     },
     "execution_count": 85,
     "metadata": {},
     "output_type": "execute_result"
    }
   ],
   "source": [
    "train.head(5)"
   ]
  },
  {
   "cell_type": "markdown",
   "metadata": {},
   "source": [
    "count special characters"
   ]
  },
  {
   "cell_type": "code",
   "execution_count": 86,
   "metadata": {},
   "outputs": [],
   "source": [
    "def extract_special_cha(text):\n",
    "    return re.sub('[\\w]+' ,'', text)"
   ]
  },
  {
   "cell_type": "code",
   "execution_count": 87,
   "metadata": {},
   "outputs": [],
   "source": [
    "train['special_cha'] = train['text'].apply(lambda x : extract_special_cha(x))"
   ]
  },
  {
   "cell_type": "code",
   "execution_count": 88,
   "metadata": {},
   "outputs": [],
   "source": [
    "# To remove white splace\n",
    "train['special_cha'] = train['special_cha'].replace(\" \",'',regex=True)"
   ]
  },
  {
   "cell_type": "code",
   "execution_count": 89,
   "metadata": {},
   "outputs": [],
   "source": [
    "def count_special_cha(text):\n",
    "    return len(re.sub('[\\w]+' ,'', text))\n",
    "\n",
    "train['count_special_cha'] = train['special_cha'].apply(lambda x: count_special_cha(x))"
   ]
  },
  {
   "cell_type": "code",
   "execution_count": 98,
   "metadata": {
    "scrolled": true
   },
   "outputs": [
    {
     "data": {
      "text/html": [
       "<div>\n",
       "<style scoped>\n",
       "    .dataframe tbody tr th:only-of-type {\n",
       "        vertical-align: middle;\n",
       "    }\n",
       "\n",
       "    .dataframe tbody tr th {\n",
       "        vertical-align: top;\n",
       "    }\n",
       "\n",
       "    .dataframe thead th {\n",
       "        text-align: right;\n",
       "    }\n",
       "</style>\n",
       "<table border=\"1\" class=\"dataframe\">\n",
       "  <thead>\n",
       "    <tr style=\"text-align: right;\">\n",
       "      <th></th>\n",
       "      <th>index</th>\n",
       "      <th>text</th>\n",
       "      <th>author</th>\n",
       "      <th>text_clean</th>\n",
       "      <th>word_count</th>\n",
       "      <th>word_avg</th>\n",
       "      <th>special_cha</th>\n",
       "      <th>count_special_cha</th>\n",
       "      <th>count_quote</th>\n",
       "      <th>count_quote2</th>\n",
       "    </tr>\n",
       "  </thead>\n",
       "  <tbody>\n",
       "    <tr>\n",
       "      <th>0</th>\n",
       "      <td>0</td>\n",
       "      <td>He was almost choking. There was so much, so m...</td>\n",
       "      <td>3</td>\n",
       "      <td>He was almost choking There was so much so muc...</td>\n",
       "      <td>46</td>\n",
       "      <td>41.0</td>\n",
       "      <td>.,,.,;,.</td>\n",
       "      <td>8</td>\n",
       "      <td>0</td>\n",
       "      <td>0</td>\n",
       "    </tr>\n",
       "    <tr>\n",
       "      <th>1</th>\n",
       "      <td>1</td>\n",
       "      <td>“Your sister asked for it, I suppose?”</td>\n",
       "      <td>2</td>\n",
       "      <td>Your sister asked for it I suppose</td>\n",
       "      <td>7</td>\n",
       "      <td>40.0</td>\n",
       "      <td>“,?”</td>\n",
       "      <td>4</td>\n",
       "      <td>2</td>\n",
       "      <td>2</td>\n",
       "    </tr>\n",
       "    <tr>\n",
       "      <th>2</th>\n",
       "      <td>2</td>\n",
       "      <td>She was engaged one day as she walked, in per...</td>\n",
       "      <td>1</td>\n",
       "      <td>She was engaged one day as she walked in peru...</td>\n",
       "      <td>57</td>\n",
       "      <td>57.1</td>\n",
       "      <td>,’,,,.,.,:</td>\n",
       "      <td>10</td>\n",
       "      <td>0</td>\n",
       "      <td>0</td>\n",
       "    </tr>\n",
       "    <tr>\n",
       "      <th>3</th>\n",
       "      <td>3</td>\n",
       "      <td>The captain was in the porch, keeping himself ...</td>\n",
       "      <td>4</td>\n",
       "      <td>The captain was in the porch keeping himself c...</td>\n",
       "      <td>58</td>\n",
       "      <td>41.5</td>\n",
       "      <td>,,.,“'..,;,;,.,.,,.”</td>\n",
       "      <td>20</td>\n",
       "      <td>2</td>\n",
       "      <td>2</td>\n",
       "    </tr>\n",
       "    <tr>\n",
       "      <th>4</th>\n",
       "      <td>4</td>\n",
       "      <td>“Have mercy, gentlemen!” odin flung up his han...</td>\n",
       "      <td>3</td>\n",
       "      <td>Have mercy gentlemen odin flung up his hands D...</td>\n",
       "      <td>39</td>\n",
       "      <td>41.0</td>\n",
       "      <td>“,!”.“’,;.’,....,!”</td>\n",
       "      <td>19</td>\n",
       "      <td>4</td>\n",
       "      <td>4</td>\n",
       "    </tr>\n",
       "    <tr>\n",
       "      <th>5</th>\n",
       "      <td>5</td>\n",
       "      <td>\"It was well fought,\" he said, \"and, by my soo...</td>\n",
       "      <td>4</td>\n",
       "      <td>It was well fought he said and by my sooth the...</td>\n",
       "      <td>16</td>\n",
       "      <td>41.5</td>\n",
       "      <td>\",\",\",,.\"</td>\n",
       "      <td>9</td>\n",
       "      <td>4</td>\n",
       "      <td>0</td>\n",
       "    </tr>\n",
       "    <tr>\n",
       "      <th>6</th>\n",
       "      <td>6</td>\n",
       "      <td>Not to pay him was impossible, considering his...</td>\n",
       "      <td>3</td>\n",
       "      <td>Not to pay him was impossible considering his ...</td>\n",
       "      <td>23</td>\n",
       "      <td>41.0</td>\n",
       "      <td>,.,,.</td>\n",
       "      <td>5</td>\n",
       "      <td>0</td>\n",
       "      <td>0</td>\n",
       "    </tr>\n",
       "    <tr>\n",
       "      <th>7</th>\n",
       "      <td>7</td>\n",
       "      <td>“A proper figure of a man at-arms,” said the l...</td>\n",
       "      <td>2</td>\n",
       "      <td>A proper figure of a man atarms said the littl...</td>\n",
       "      <td>77</td>\n",
       "      <td>40.0</td>\n",
       "      <td>“-,”.“,,,...,,.”</td>\n",
       "      <td>16</td>\n",
       "      <td>4</td>\n",
       "      <td>4</td>\n",
       "    </tr>\n",
       "    <tr>\n",
       "      <th>8</th>\n",
       "      <td>8</td>\n",
       "      <td>'You were not here last Sunday night,' he said.</td>\n",
       "      <td>0</td>\n",
       "      <td>You were not here last Sunday night he said</td>\n",
       "      <td>9</td>\n",
       "      <td>37.4</td>\n",
       "      <td>','.</td>\n",
       "      <td>4</td>\n",
       "      <td>0</td>\n",
       "      <td>0</td>\n",
       "    </tr>\n",
       "    <tr>\n",
       "      <th>9</th>\n",
       "      <td>9</td>\n",
       "      <td>“You must not ask me that!” I cried. “Hell may...</td>\n",
       "      <td>4</td>\n",
       "      <td>You must not ask me that I cried Hell may have...</td>\n",
       "      <td>32</td>\n",
       "      <td>41.5</td>\n",
       "      <td>“!”.“.,,,.”</td>\n",
       "      <td>11</td>\n",
       "      <td>4</td>\n",
       "      <td>4</td>\n",
       "    </tr>\n",
       "    <tr>\n",
       "      <th>10</th>\n",
       "      <td>10</td>\n",
       "      <td>“This was an unexpected piece of luck. My dat...</td>\n",
       "      <td>2</td>\n",
       "      <td>This was an unexpected piece of luck My data ...</td>\n",
       "      <td>19</td>\n",
       "      <td>40.0</td>\n",
       "      <td>“..</td>\n",
       "      <td>3</td>\n",
       "      <td>1</td>\n",
       "      <td>1</td>\n",
       "    </tr>\n",
       "    <tr>\n",
       "      <th>11</th>\n",
       "      <td>11</td>\n",
       "      <td>“One rogue the fewer, I dare say,” observed th...</td>\n",
       "      <td>4</td>\n",
       "      <td>One rogue the fewer I dare say observed the ma...</td>\n",
       "      <td>13</td>\n",
       "      <td>41.5</td>\n",
       "      <td>“,,”.</td>\n",
       "      <td>5</td>\n",
       "      <td>2</td>\n",
       "      <td>2</td>\n",
       "    </tr>\n",
       "    <tr>\n",
       "      <th>12</th>\n",
       "      <td>12</td>\n",
       "      <td>I had scant luggage to take with me to London,...</td>\n",
       "      <td>0</td>\n",
       "      <td>I had scant luggage to take with me to London ...</td>\n",
       "      <td>55</td>\n",
       "      <td>37.4</td>\n",
       "      <td>,.,,.</td>\n",
       "      <td>5</td>\n",
       "      <td>0</td>\n",
       "      <td>0</td>\n",
       "    </tr>\n",
       "    <tr>\n",
       "      <th>13</th>\n",
       "      <td>13</td>\n",
       "      <td>It suited odin best to think odin the one pref...</td>\n",
       "      <td>1</td>\n",
       "      <td>It suited odin best to think odin the one pref...</td>\n",
       "      <td>58</td>\n",
       "      <td>57.1</td>\n",
       "      <td>,.,--.</td>\n",
       "      <td>6</td>\n",
       "      <td>0</td>\n",
       "      <td>0</td>\n",
       "    </tr>\n",
       "    <tr>\n",
       "      <th>14</th>\n",
       "      <td>14</td>\n",
       "      <td>“Have you no friends?” said I.</td>\n",
       "      <td>4</td>\n",
       "      <td>Have you no friends said I</td>\n",
       "      <td>6</td>\n",
       "      <td>41.5</td>\n",
       "      <td>“?”.</td>\n",
       "      <td>4</td>\n",
       "      <td>2</td>\n",
       "      <td>2</td>\n",
       "    </tr>\n",
       "    <tr>\n",
       "      <th>15</th>\n",
       "      <td>15</td>\n",
       "      <td>Still the ticking in the hall. Still the breat...</td>\n",
       "      <td>2</td>\n",
       "      <td>Still the ticking in the hall Still the breath...</td>\n",
       "      <td>98</td>\n",
       "      <td>40.0</td>\n",
       "      <td>.,,.,,.,-..,,,.,-,-,.</td>\n",
       "      <td>21</td>\n",
       "      <td>0</td>\n",
       "      <td>0</td>\n",
       "    </tr>\n",
       "    <tr>\n",
       "      <th>16</th>\n",
       "      <td>16</td>\n",
       "      <td>The bustle in the vestibule, as she passed alo...</td>\n",
       "      <td>1</td>\n",
       "      <td>The bustle in the vestibule as she passed alon...</td>\n",
       "      <td>31</td>\n",
       "      <td>57.1</td>\n",
       "      <td>,,.-,--,--.</td>\n",
       "      <td>11</td>\n",
       "      <td>0</td>\n",
       "      <td>0</td>\n",
       "    </tr>\n",
       "    <tr>\n",
       "      <th>17</th>\n",
       "      <td>17</td>\n",
       "      <td>“Indeed she didn’t. By God I swear she didn’t ...</td>\n",
       "      <td>3</td>\n",
       "      <td>Indeed she didn’t By God I swear she didn’t co...</td>\n",
       "      <td>11</td>\n",
       "      <td>41.0</td>\n",
       "      <td>“’.’.”</td>\n",
       "      <td>6</td>\n",
       "      <td>2</td>\n",
       "      <td>2</td>\n",
       "    </tr>\n",
       "    <tr>\n",
       "      <th>18</th>\n",
       "      <td>18</td>\n",
       "      <td>Before he could recover, I was safe out of the...</td>\n",
       "      <td>4</td>\n",
       "      <td>Before he could recover I was safe out of the ...</td>\n",
       "      <td>106</td>\n",
       "      <td>41.5</td>\n",
       "      <td>,,.-,,,,.,;-..,,?,.</td>\n",
       "      <td>19</td>\n",
       "      <td>0</td>\n",
       "      <td>0</td>\n",
       "    </tr>\n",
       "    <tr>\n",
       "      <th>19</th>\n",
       "      <td>19</td>\n",
       "      <td>‘Why, the fact is,’ returned odin, ‘Mr. odin h...</td>\n",
       "      <td>0</td>\n",
       "      <td>‘Why the fact is’ returned odin ‘Mr odin had s...</td>\n",
       "      <td>89</td>\n",
       "      <td>37.4</td>\n",
       "      <td>‘,,’,‘.,,.,’,,.,.,.’</td>\n",
       "      <td>20</td>\n",
       "      <td>0</td>\n",
       "      <td>0</td>\n",
       "    </tr>\n",
       "  </tbody>\n",
       "</table>\n",
       "</div>"
      ],
      "text/plain": [
       "    index                                               text  author  \\\n",
       "0       0  He was almost choking. There was so much, so m...       3   \n",
       "1       1             “Your sister asked for it, I suppose?”       2   \n",
       "2       2   She was engaged one day as she walked, in per...       1   \n",
       "3       3  The captain was in the porch, keeping himself ...       4   \n",
       "4       4  “Have mercy, gentlemen!” odin flung up his han...       3   \n",
       "5       5  \"It was well fought,\" he said, \"and, by my soo...       4   \n",
       "6       6  Not to pay him was impossible, considering his...       3   \n",
       "7       7  “A proper figure of a man at-arms,” said the l...       2   \n",
       "8       8    'You were not here last Sunday night,' he said.       0   \n",
       "9       9  “You must not ask me that!” I cried. “Hell may...       4   \n",
       "10     10   “This was an unexpected piece of luck. My dat...       2   \n",
       "11     11  “One rogue the fewer, I dare say,” observed th...       4   \n",
       "12     12  I had scant luggage to take with me to London,...       0   \n",
       "13     13  It suited odin best to think odin the one pref...       1   \n",
       "14     14                     “Have you no friends?” said I.       4   \n",
       "15     15  Still the ticking in the hall. Still the breat...       2   \n",
       "16     16  The bustle in the vestibule, as she passed alo...       1   \n",
       "17     17  “Indeed she didn’t. By God I swear she didn’t ...       3   \n",
       "18     18  Before he could recover, I was safe out of the...       4   \n",
       "19     19  ‘Why, the fact is,’ returned odin, ‘Mr. odin h...       0   \n",
       "\n",
       "                                           text_clean  word_count  word_avg  \\\n",
       "0   He was almost choking There was so much so muc...          46      41.0   \n",
       "1                  Your sister asked for it I suppose           7      40.0   \n",
       "2    She was engaged one day as she walked in peru...          57      57.1   \n",
       "3   The captain was in the porch keeping himself c...          58      41.5   \n",
       "4   Have mercy gentlemen odin flung up his hands D...          39      41.0   \n",
       "5   It was well fought he said and by my sooth the...          16      41.5   \n",
       "6   Not to pay him was impossible considering his ...          23      41.0   \n",
       "7   A proper figure of a man atarms said the littl...          77      40.0   \n",
       "8         You were not here last Sunday night he said           9      37.4   \n",
       "9   You must not ask me that I cried Hell may have...          32      41.5   \n",
       "10   This was an unexpected piece of luck My data ...          19      40.0   \n",
       "11  One rogue the fewer I dare say observed the ma...          13      41.5   \n",
       "12  I had scant luggage to take with me to London ...          55      37.4   \n",
       "13  It suited odin best to think odin the one pref...          58      57.1   \n",
       "14                         Have you no friends said I           6      41.5   \n",
       "15  Still the ticking in the hall Still the breath...          98      40.0   \n",
       "16  The bustle in the vestibule as she passed alon...          31      57.1   \n",
       "17  Indeed she didn’t By God I swear she didn’t co...          11      41.0   \n",
       "18  Before he could recover I was safe out of the ...         106      41.5   \n",
       "19  ‘Why the fact is’ returned odin ‘Mr odin had s...          89      37.4   \n",
       "\n",
       "              special_cha  count_special_cha  count_quote  count_quote2  \n",
       "0                .,,.,;,.                  8            0             0  \n",
       "1                    “,?”                  4            2             2  \n",
       "2              ,’,,,.,.,:                 10            0             0  \n",
       "3    ,,.,“'..,;,;,.,.,,.”                 20            2             2  \n",
       "4     “,!”.“’,;.’,....,!”                 19            4             4  \n",
       "5               \",\",\",,.\"                  9            4             0  \n",
       "6                   ,.,,.                  5            0             0  \n",
       "7        “-,”.“,,,...,,.”                 16            4             4  \n",
       "8                    ','.                  4            0             0  \n",
       "9             “!”.“.,,,.”                 11            4             4  \n",
       "10                    “..                  3            1             1  \n",
       "11                  “,,”.                  5            2             2  \n",
       "12                  ,.,,.                  5            0             0  \n",
       "13                 ,.,--.                  6            0             0  \n",
       "14                   “?”.                  4            2             2  \n",
       "15  .,,.,,.,-..,,,.,-,-,.                 21            0             0  \n",
       "16            ,,.-,--,--.                 11            0             0  \n",
       "17                 “’.’.”                  6            2             2  \n",
       "18    ,,.-,,,,.,;-..,,?,.                 19            0             0  \n",
       "19   ‘,,’,‘.,,.,’,,.,.,.’                 20            0             0  "
      ]
     },
     "execution_count": 98,
     "metadata": {},
     "output_type": "execute_result"
    }
   ],
   "source": [
    "train.head(20)"
   ]
  },
  {
   "cell_type": "markdown",
   "metadata": {},
   "source": [
    "count double quotes"
   ]
  },
  {
   "cell_type": "code",
   "execution_count": 94,
   "metadata": {},
   "outputs": [],
   "source": [
    "train['count_quote'] = train['text'].apply(lambda x : x.count('\"')) + train['text'].apply(lambda x : x.count('”')) + train['text'].apply(lambda x : x.count('“'))"
   ]
  },
  {
   "cell_type": "code",
   "execution_count": null,
   "metadata": {},
   "outputs": [],
   "source": []
  }
 ],
 "metadata": {
  "kernelspec": {
   "display_name": "Python 3",
   "language": "python",
   "name": "python3"
  },
  "language_info": {
   "codemirror_mode": {
    "name": "ipython",
    "version": 3
   },
   "file_extension": ".py",
   "mimetype": "text/x-python",
   "name": "python",
   "nbconvert_exporter": "python",
   "pygments_lexer": "ipython3",
   "version": "3.8.5"
  }
 },
 "nbformat": 4,
 "nbformat_minor": 4
}
