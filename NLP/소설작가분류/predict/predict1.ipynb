{
 "cells": [
  {
   "cell_type": "code",
   "execution_count": 1,
   "metadata": {},
   "outputs": [],
   "source": [
    "from sklearn.metrics import log_loss\n",
    "from scipy import sparse\n",
    "import joblib \n",
    "import pandas as pd"
   ]
  },
  {
   "cell_type": "code",
   "execution_count": 20,
   "metadata": {
    "scrolled": true
   },
   "outputs": [],
   "source": [
    "valid_x = sparse.load_npz('../preprocess/valid_x.npz')\n",
    "valid_y = pd.read_csv('../preprocess/valid_y.csv')\n",
    "\n",
    "test = sparse.load_npz('../preprocess/test_preprocess.npz')\n",
    "\n",
    "sub = pd.read_csv('../raw/sample_submission.csv')\n",
    "\n",
    "clf = joblib.load('../model/cat_model.pkl')"
   ]
  },
  {
   "cell_type": "markdown",
   "metadata": {},
   "source": [
    "* 0.8605233148961637 > 0.6452018152"
   ]
  },
  {
   "cell_type": "code",
   "execution_count": 3,
   "metadata": {},
   "outputs": [
    {
     "name": "stdout",
     "output_type": "stream",
     "text": [
      "0.8605233148961637\n"
     ]
    }
   ],
   "source": [
    "# score\n",
    "valid_predict = clf.predict_proba(valid_x)\n",
    "print(log_loss(valid_y, valid_predict))"
   ]
  },
  {
   "cell_type": "code",
   "execution_count": 25,
   "metadata": {
    "scrolled": false
   },
   "outputs": [],
   "source": [
    "# submit\n",
    "predict = clf.predict_proba(test)\n",
    "sub=sub.set_index('index')\n",
    "sub[sub.columns] = predict\n",
    "sub=sub.reset_index()\n",
    "sub.to_csv('sub_nlp.csv', index=False)"
   ]
  }
 ],
 "metadata": {
  "kernelspec": {
   "display_name": "Python 3",
   "language": "python",
   "name": "python3"
  },
  "language_info": {
   "codemirror_mode": {
    "name": "ipython",
    "version": 3
   },
   "file_extension": ".py",
   "mimetype": "text/x-python",
   "name": "python",
   "nbconvert_exporter": "python",
   "pygments_lexer": "ipython3",
   "version": "3.8.5"
  }
 },
 "nbformat": 4,
 "nbformat_minor": 4
}
