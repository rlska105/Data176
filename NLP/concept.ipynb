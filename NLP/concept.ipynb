{
 "cells": [
  {
   "cell_type": "markdown",
   "metadata": {},
   "source": [
    "https://everyday-deeplearning.tistory.com/entry/Python%EC%9C%BC%EB%A1%9C-%EB%94%A5%EB%9F%AC%EB%8B%9D%ED%95%98%EA%B8%B0-%EC%9E%90%EC%97%B0%EC%96%B4-%EC%B2%98%EB%A6%AC-1-%ED%86%A0%ED%81%AC%EB%82%98%EC%9D%B4%EC%A7%95"
   ]
  },
  {
   "cell_type": "markdown",
   "metadata": {},
   "source": [
    "- 전반적인 자연어 처리\n",
    "https://wikidocs.net/21698"
   ]
  },
  {
   "cell_type": "markdown",
   "metadata": {},
   "source": [
    "### Tokenizing : 언어적 특성을 반영해 단어를 수치화 하는 것\n",
    "1. 라이브러리<br>\n",
    "  1) 영어\n",
    "    - NLTK : 파이썬에서 영어 텍스트 전처리 작업을 하는 데 많이 쓰이는 라이브러리\n",
    "    - Spacy : 현재 영어를 포함한 8개 국어에 대한 자연어 전처리 모듈을 제공, 빠른 속도<br>\n",
    "\n",
    "  2) 한글\n",
    "    - KoNLPy : 한글 자연어 처리를 쉽고 간결하게 처리할 수 있도록 만들어진 오픈소스\n",
    "      > * Hannanum(한나눔) : KAIST Semantic Web Research Center 개발\n",
    "      > * Kkma(꼬꼬마) : 서울대학교 IDS(Intelligent Data Systems) 연구실 개발(오래 걸림)\n",
    "      > * Komoran(코모란) : Shineware에서 개발\n",
    "      > * Mecab(메캅) : 일본어용 형태소 분석기를 한국어 사용이 가능하도록 수정(설치 복잡)\n",
    "      > * Okt : 과거엔 트위터 형태소 분석기, 오픈소스"
   ]
  },
  {
   "cell_type": "markdown",
   "metadata": {},
   "source": [
    "### 한글의 경우 형태소 토크나이징을 하는 이유\n",
    "  1. 영어와 달리 한국어는 조사가 존재\n",
    "    > 형태소 토큰화를 지향, 영어는 어절 토큰화(한국어는 어절 토큰화 지양)\n",
    "\n",
    "  2. 한국어는 영어권 언어와 비교하여 띄어쓰기가 어렵고, 잘 지켜지지 않는 경향이 있다\n",
    "    > 품사태깅 : 단어의 의미를 제대로 파악하기 위해 해당 단어가 어떤 품사로 쓰였는지 보기 위한 지표\n",
    "  \n",
    "ex) \"한글 자연어 처리 공부는 어렵다\"<br>\n",
    "음절 : 한, 글, 자, 연, 어, 처, 리, 공, 부, 는, 어, 렵, 다<br>\n",
    "어절 : 한글, 자연어, 처리, 공부는, 어렵다<br>\n",
    "형태소 : 한글, 자연어, 처리, 공부, 는, 어렵, 다<br>"
   ]
  },
  {
   "cell_type": "markdown",
   "metadata": {},
   "source": [
    "### Word Embedding\n",
    "- 토큰화한 단어 수치화(Vectorizing)하는 방법\n",
    "\n",
    "\n",
    "1. Frequency based Embedding\n",
    "  * CountVectorizer\n",
    "  * TF-IDF\n",
    "  * bag-of-words\n",
    "\n",
    "2. Prediction based Vector\n",
    "  * Word2vec\n",
    "  * CBOW\n",
    "  * skip-gram"
   ]
  },
  {
   "cell_type": "markdown",
   "metadata": {},
   "source": [
    "### Word Embedding\n",
    "- Word2Vec과 Glove가 많이 사용되고 있다\n",
    "1. 희소 표현(Sparse Representation)\n",
    "  - 벡터 또는 행렬의 값이 대부분 0으로 표현되는 방법<br>\n",
    "  1) 단점 <br>\n",
    "    - 단어의 개수가 늘어나면 벡터의 차원이 한없이 커짐\n",
    "    > 단어가 10,000개면 벡터의 차원은 10,000\n",
    "\n",
    "   - 원-핫 벡터는 단어의 의미를 담지 못함\n",
    "2. 밀집 표현(Dense Presentation)\n",
    "  - 희소 표현과 반대되는 표현\n",
    "  - 벡터의 차원을 단어 집합의 크기로 상정하지 않는다\n",
    "  - 사용자가 설정한 값으로 모든 단어의 벡터 표현 차원을 맞춰준다\n",
    "    * 이 과정에서 0과 1만이 아닌 실수값을 가지게 된다\n",
    "3. 워드 임베딩(Word Embedding)\n",
    "  - 단어를 밀집 벡터(Dense Vector)의 형태로 표현한 방법\n",
    "  - 밀집 벡터는 워드임베딩 과정을 통해 나온 결과라고도 하여 임베딩 벡터라고도 함"
   ]
  },
  {
   "cell_type": "code",
   "execution_count": 2,
   "metadata": {},
   "outputs": [
    {
     "data": {
      "image/png": "[encoded data removed]",
      "text/plain": [
       "<PIL.PngImagePlugin.PngImageFile image mode=RGBA size=558x208 at 0x1D268EE8580>"
      ]
     },
     "execution_count": 2,
     "metadata": {},
     "output_type": "execute_result"
    }
   ],
   "source": [
    "from PIL import Image\n",
    "im1 = Image.open('1.png')\n",
    "im1"
   ]
  }
 ],
 "metadata": {
  "kernelspec": {
   "display_name": "Python 3",
   "language": "python",
   "name": "python3"
  },
  "language_info": {
   "codemirror_mode": {
    "name": "ipython",
    "version": 3
   },
   "file_extension": ".py",
   "mimetype": "text/x-python",
   "name": "python",
   "nbconvert_exporter": "python",
   "pygments_lexer": "ipython3",
   "version": "3.8.3"
  }
 },
 "nbformat": 4,
 "nbformat_minor": 4
}
